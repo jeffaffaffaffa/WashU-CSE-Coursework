{
 "cells": [
  {
   "cell_type": "markdown",
   "metadata": {},
   "source": [
    "# Homework 10, Part 1: Data Acquisition, Processing, and Deployment"
   ]
  },
  {
   "cell_type": "markdown",
   "metadata": {},
   "source": [
    "Name: Jeff Che\n",
    "ID: 464957\n",
    "\n",
    "Collaborator: Andrew Wu"
   ]
  },
  {
   "cell_type": "markdown",
   "metadata": {},
   "source": [
    "\n",
    "# Learning Objectives \n",
    "This presents how to build a neural network from scratch to classify images of rock-paper-scissors. During this lab we will explore the following concepts \n",
    "- how images are represented and handled in software\n",
    "- how to prepare a machine learning dataset\n",
    "- how a full machine learning pipeline looks\n",
    "- data preprocessing\n",
    "- data augmentation and its importance\n",
    "\n",
    "## Preparation \n",
    "Before we start the lab we'll need to install some python libaries. Open a terminal and run the installation commands found in the sites below. \n",
    "\n",
    "- **skimage**: https://scikit-image.org/download.html\n",
    "\n",
    "\n",
    "## Defining the Problem: Rock-Paper-Scissors\n",
    "\n",
    "What problem do we want to solve, exactly?  We want to use Neural Networks to recognize hand gestures, more specifically we want the network to automatically predict which of the three ✊✋✌️ gestures is shown. Hence, the output is a classification of the input image in one of the three classes. \n",
    "\n",
    "In the following, we will adopt the convention that \n",
    "- class 0 is ✊ rock\n",
    "- class 1 is ✋ paper\n",
    "- class 2 is ✌️ scissors\n",
    "\n",
    "and we will store example images (for training and testing) of each class in the corresponding folders `rock`, `paper`, and `scissors`.\n",
    "\n",
    "\n",
    "## 1. Collecting Rock-Paper-Scissor Examples\n",
    "\n",
    "In this section, we will collect examples of what rocks (✊), papers (🤚), and scissors (✌️) look like. To do this, we will need to enlist you're help as a Team Data™️ member. We will need to collect a good amount of images of each of these hand positions."
   ]
  },
  {
   "cell_type": "markdown",
   "metadata": {},
   "source": [
    "### 1.1 How To Take The Pictures\n",
    "\n",
    "- We don't need high resolution images: use the lowest resolution/quality allowed by your phone (this reduces the size of the dataset and speeds up data transfer).\n",
    "- The hand should be more or less in the center of the image; it should net fill the whole image, but it should also not be too small either.\n",
    "![guide](utility/pics/sign_image_guide.png)\n",
    "- We want the dataset to represent as much variability as possible: if we want the classifier to work for all hand orientations, try to have examples for all of them; if we want to  handle many different lighting conditions, try to have some pictures for different lightings.\n",
    "- Avoid poses that are ambiguous, unless you want to make your job harder: e.g. don't include images of paper or scissors taken from the side in the dataset.\n",
    "- Avoid having two images in the dataset that are almost the same: change the camera and hand pose at least a little bit; this is important because we will randomly split training and testing data."
   ]
  },
  {
   "cell_type": "markdown",
   "metadata": {},
   "source": [
    "### 1.2 Storing and Scaling the Images\n",
    "\n",
    "Produce 5 examples of rocks (✊), papers (🤚), and scissors (✌️) as you can, keeping in mind the guidelines set above. Remember that we want to have as much reasonable variability in the dataset as possible.\n",
    "\n",
    "Let's create a new folder at `utility/data/raw` where we can store our images. Your example images (dataset) of each class will need to be stored in the corresponding folders `rock`, `paper`, and `scissors`."
   ]
  },
  {
   "cell_type": "code",
   "execution_count": 20,
   "metadata": {},
   "outputs": [],
   "source": [
    "from os import makedirs, mkdir\n",
    "from os.path import exists\n",
    "\n",
    "base = 'utility/data'\n",
    "raw = f'{base}/raw'\n",
    "dirs = ['rock', 'paper', 'scissors']\n",
    "\n",
    "if not exists(raw):\n",
    "    makedirs(raw, exist_ok=True)\n",
    "\n",
    "for sign in dirs:\n",
    "    path = f'{raw}/{sign}'\n",
    "    \n",
    "    if not exists(path):\n",
    "        mkdir(path)"
   ]
  },
  {
   "cell_type": "markdown",
   "metadata": {},
   "source": [
    "**Try this!** Store the images you took of rocks (✊), papers (🤚), and scissors (✌️) in the correct folders in `utility/data/raw`. Then, run the following cell to produced rescaled images, which will be stored in `utility/data/rescaled`."
   ]
  },
  {
   "cell_type": "code",
   "execution_count": 21,
   "metadata": {},
   "outputs": [
    {
     "name": "stdout",
     "output_type": "stream",
     "text": [
      "paper4.JPG\n",
      "utility/data/raw/paper/paper4.JPG\n"
     ]
    },
    {
     "name": "stderr",
     "output_type": "stream",
     "text": [
      "/Users/jche/anaconda3/lib/python3.7/site-packages/skimage/transform/_warps.py:105: UserWarning: The default mode, 'constant', will be changed to 'reflect' in skimage 0.15.\n",
      "  warn(\"The default mode, 'constant', will be changed to 'reflect' in \"\n",
      "/Users/jche/anaconda3/lib/python3.7/site-packages/skimage/transform/_warps.py:110: UserWarning: Anti-aliasing will be enabled by default in skimage 0.15 to avoid aliasing artifacts when down-sampling images.\n",
      "  warn(\"Anti-aliasing will be enabled by default in skimage 0.15 to \"\n",
      "/Users/jche/anaconda3/lib/python3.7/site-packages/skimage/util/dtype.py:141: UserWarning: Possible precision loss when converting from float64 to uint8\n",
      "  .format(dtypeobj_in, dtypeobj_out))\n"
     ]
    },
    {
     "name": "stdout",
     "output_type": "stream",
     "text": [
      "paper5.JPG\n",
      "utility/data/raw/paper/paper5.JPG\n"
     ]
    },
    {
     "name": "stderr",
     "output_type": "stream",
     "text": [
      "/Users/jche/anaconda3/lib/python3.7/site-packages/skimage/transform/_warps.py:105: UserWarning: The default mode, 'constant', will be changed to 'reflect' in skimage 0.15.\n",
      "  warn(\"The default mode, 'constant', will be changed to 'reflect' in \"\n",
      "/Users/jche/anaconda3/lib/python3.7/site-packages/skimage/transform/_warps.py:110: UserWarning: Anti-aliasing will be enabled by default in skimage 0.15 to avoid aliasing artifacts when down-sampling images.\n",
      "  warn(\"Anti-aliasing will be enabled by default in skimage 0.15 to \"\n",
      "/Users/jche/anaconda3/lib/python3.7/site-packages/skimage/util/dtype.py:141: UserWarning: Possible precision loss when converting from float64 to uint8\n",
      "  .format(dtypeobj_in, dtypeobj_out))\n"
     ]
    },
    {
     "name": "stdout",
     "output_type": "stream",
     "text": [
      "paper2.JPG\n",
      "utility/data/raw/paper/paper2.JPG\n"
     ]
    },
    {
     "name": "stderr",
     "output_type": "stream",
     "text": [
      "/Users/jche/anaconda3/lib/python3.7/site-packages/skimage/transform/_warps.py:105: UserWarning: The default mode, 'constant', will be changed to 'reflect' in skimage 0.15.\n",
      "  warn(\"The default mode, 'constant', will be changed to 'reflect' in \"\n",
      "/Users/jche/anaconda3/lib/python3.7/site-packages/skimage/transform/_warps.py:110: UserWarning: Anti-aliasing will be enabled by default in skimage 0.15 to avoid aliasing artifacts when down-sampling images.\n",
      "  warn(\"Anti-aliasing will be enabled by default in skimage 0.15 to \"\n",
      "/Users/jche/anaconda3/lib/python3.7/site-packages/skimage/util/dtype.py:141: UserWarning: Possible precision loss when converting from float64 to uint8\n",
      "  .format(dtypeobj_in, dtypeobj_out))\n"
     ]
    },
    {
     "name": "stdout",
     "output_type": "stream",
     "text": [
      "paper3.JPG\n",
      "utility/data/raw/paper/paper3.JPG\n"
     ]
    },
    {
     "name": "stderr",
     "output_type": "stream",
     "text": [
      "/Users/jche/anaconda3/lib/python3.7/site-packages/skimage/transform/_warps.py:105: UserWarning: The default mode, 'constant', will be changed to 'reflect' in skimage 0.15.\n",
      "  warn(\"The default mode, 'constant', will be changed to 'reflect' in \"\n",
      "/Users/jche/anaconda3/lib/python3.7/site-packages/skimage/transform/_warps.py:110: UserWarning: Anti-aliasing will be enabled by default in skimage 0.15 to avoid aliasing artifacts when down-sampling images.\n",
      "  warn(\"Anti-aliasing will be enabled by default in skimage 0.15 to \"\n",
      "/Users/jche/anaconda3/lib/python3.7/site-packages/skimage/util/dtype.py:141: UserWarning: Possible precision loss when converting from float64 to uint8\n",
      "  .format(dtypeobj_in, dtypeobj_out))\n"
     ]
    },
    {
     "name": "stdout",
     "output_type": "stream",
     "text": [
      "paper1.JPG\n",
      "utility/data/raw/paper/paper1.JPG\n"
     ]
    },
    {
     "name": "stderr",
     "output_type": "stream",
     "text": [
      "/Users/jche/anaconda3/lib/python3.7/site-packages/skimage/transform/_warps.py:105: UserWarning: The default mode, 'constant', will be changed to 'reflect' in skimage 0.15.\n",
      "  warn(\"The default mode, 'constant', will be changed to 'reflect' in \"\n",
      "/Users/jche/anaconda3/lib/python3.7/site-packages/skimage/transform/_warps.py:110: UserWarning: Anti-aliasing will be enabled by default in skimage 0.15 to avoid aliasing artifacts when down-sampling images.\n",
      "  warn(\"Anti-aliasing will be enabled by default in skimage 0.15 to \"\n",
      "/Users/jche/anaconda3/lib/python3.7/site-packages/skimage/util/dtype.py:141: UserWarning: Possible precision loss when converting from float64 to uint8\n",
      "  .format(dtypeobj_in, dtypeobj_out))\n"
     ]
    },
    {
     "name": "stdout",
     "output_type": "stream",
     "text": [
      "rock3.JPG\n",
      "utility/data/raw/rock/rock3.JPG\n"
     ]
    },
    {
     "name": "stderr",
     "output_type": "stream",
     "text": [
      "/Users/jche/anaconda3/lib/python3.7/site-packages/skimage/transform/_warps.py:105: UserWarning: The default mode, 'constant', will be changed to 'reflect' in skimage 0.15.\n",
      "  warn(\"The default mode, 'constant', will be changed to 'reflect' in \"\n",
      "/Users/jche/anaconda3/lib/python3.7/site-packages/skimage/transform/_warps.py:110: UserWarning: Anti-aliasing will be enabled by default in skimage 0.15 to avoid aliasing artifacts when down-sampling images.\n",
      "  warn(\"Anti-aliasing will be enabled by default in skimage 0.15 to \"\n",
      "/Users/jche/anaconda3/lib/python3.7/site-packages/skimage/util/dtype.py:141: UserWarning: Possible precision loss when converting from float64 to uint8\n",
      "  .format(dtypeobj_in, dtypeobj_out))\n"
     ]
    },
    {
     "name": "stdout",
     "output_type": "stream",
     "text": [
      "rock2.JPG\n",
      "utility/data/raw/rock/rock2.JPG\n"
     ]
    },
    {
     "name": "stderr",
     "output_type": "stream",
     "text": [
      "/Users/jche/anaconda3/lib/python3.7/site-packages/skimage/transform/_warps.py:105: UserWarning: The default mode, 'constant', will be changed to 'reflect' in skimage 0.15.\n",
      "  warn(\"The default mode, 'constant', will be changed to 'reflect' in \"\n",
      "/Users/jche/anaconda3/lib/python3.7/site-packages/skimage/transform/_warps.py:110: UserWarning: Anti-aliasing will be enabled by default in skimage 0.15 to avoid aliasing artifacts when down-sampling images.\n",
      "  warn(\"Anti-aliasing will be enabled by default in skimage 0.15 to \"\n",
      "/Users/jche/anaconda3/lib/python3.7/site-packages/skimage/util/dtype.py:141: UserWarning: Possible precision loss when converting from float64 to uint8\n",
      "  .format(dtypeobj_in, dtypeobj_out))\n"
     ]
    },
    {
     "name": "stdout",
     "output_type": "stream",
     "text": [
      "rock1.JPG\n",
      "utility/data/raw/rock/rock1.JPG\n"
     ]
    },
    {
     "name": "stderr",
     "output_type": "stream",
     "text": [
      "/Users/jche/anaconda3/lib/python3.7/site-packages/skimage/transform/_warps.py:105: UserWarning: The default mode, 'constant', will be changed to 'reflect' in skimage 0.15.\n",
      "  warn(\"The default mode, 'constant', will be changed to 'reflect' in \"\n",
      "/Users/jche/anaconda3/lib/python3.7/site-packages/skimage/transform/_warps.py:110: UserWarning: Anti-aliasing will be enabled by default in skimage 0.15 to avoid aliasing artifacts when down-sampling images.\n",
      "  warn(\"Anti-aliasing will be enabled by default in skimage 0.15 to \"\n",
      "/Users/jche/anaconda3/lib/python3.7/site-packages/skimage/util/dtype.py:141: UserWarning: Possible precision loss when converting from float64 to uint8\n",
      "  .format(dtypeobj_in, dtypeobj_out))\n"
     ]
    },
    {
     "name": "stdout",
     "output_type": "stream",
     "text": [
      "rock5.JPG\n",
      "utility/data/raw/rock/rock5.JPG\n"
     ]
    },
    {
     "name": "stderr",
     "output_type": "stream",
     "text": [
      "/Users/jche/anaconda3/lib/python3.7/site-packages/skimage/transform/_warps.py:105: UserWarning: The default mode, 'constant', will be changed to 'reflect' in skimage 0.15.\n",
      "  warn(\"The default mode, 'constant', will be changed to 'reflect' in \"\n",
      "/Users/jche/anaconda3/lib/python3.7/site-packages/skimage/transform/_warps.py:110: UserWarning: Anti-aliasing will be enabled by default in skimage 0.15 to avoid aliasing artifacts when down-sampling images.\n",
      "  warn(\"Anti-aliasing will be enabled by default in skimage 0.15 to \"\n",
      "/Users/jche/anaconda3/lib/python3.7/site-packages/skimage/util/dtype.py:141: UserWarning: Possible precision loss when converting from float64 to uint8\n",
      "  .format(dtypeobj_in, dtypeobj_out))\n"
     ]
    },
    {
     "name": "stdout",
     "output_type": "stream",
     "text": [
      "rock4.JPG\n",
      "utility/data/raw/rock/rock4.JPG\n"
     ]
    },
    {
     "name": "stderr",
     "output_type": "stream",
     "text": [
      "/Users/jche/anaconda3/lib/python3.7/site-packages/skimage/transform/_warps.py:105: UserWarning: The default mode, 'constant', will be changed to 'reflect' in skimage 0.15.\n",
      "  warn(\"The default mode, 'constant', will be changed to 'reflect' in \"\n",
      "/Users/jche/anaconda3/lib/python3.7/site-packages/skimage/transform/_warps.py:110: UserWarning: Anti-aliasing will be enabled by default in skimage 0.15 to avoid aliasing artifacts when down-sampling images.\n",
      "  warn(\"Anti-aliasing will be enabled by default in skimage 0.15 to \"\n",
      "/Users/jche/anaconda3/lib/python3.7/site-packages/skimage/util/dtype.py:141: UserWarning: Possible precision loss when converting from float64 to uint8\n",
      "  .format(dtypeobj_in, dtypeobj_out))\n"
     ]
    },
    {
     "name": "stdout",
     "output_type": "stream",
     "text": [
      "sci5.JPG\n",
      "utility/data/raw/scissors/sci5.JPG\n"
     ]
    },
    {
     "name": "stderr",
     "output_type": "stream",
     "text": [
      "/Users/jche/anaconda3/lib/python3.7/site-packages/skimage/transform/_warps.py:105: UserWarning: The default mode, 'constant', will be changed to 'reflect' in skimage 0.15.\n",
      "  warn(\"The default mode, 'constant', will be changed to 'reflect' in \"\n",
      "/Users/jche/anaconda3/lib/python3.7/site-packages/skimage/transform/_warps.py:110: UserWarning: Anti-aliasing will be enabled by default in skimage 0.15 to avoid aliasing artifacts when down-sampling images.\n",
      "  warn(\"Anti-aliasing will be enabled by default in skimage 0.15 to \"\n",
      "/Users/jche/anaconda3/lib/python3.7/site-packages/skimage/util/dtype.py:141: UserWarning: Possible precision loss when converting from float64 to uint8\n",
      "  .format(dtypeobj_in, dtypeobj_out))\n"
     ]
    },
    {
     "name": "stdout",
     "output_type": "stream",
     "text": [
      "sci4.JPG\n",
      "utility/data/raw/scissors/sci4.JPG\n"
     ]
    },
    {
     "name": "stderr",
     "output_type": "stream",
     "text": [
      "/Users/jche/anaconda3/lib/python3.7/site-packages/skimage/transform/_warps.py:105: UserWarning: The default mode, 'constant', will be changed to 'reflect' in skimage 0.15.\n",
      "  warn(\"The default mode, 'constant', will be changed to 'reflect' in \"\n",
      "/Users/jche/anaconda3/lib/python3.7/site-packages/skimage/transform/_warps.py:110: UserWarning: Anti-aliasing will be enabled by default in skimage 0.15 to avoid aliasing artifacts when down-sampling images.\n",
      "  warn(\"Anti-aliasing will be enabled by default in skimage 0.15 to \"\n",
      "/Users/jche/anaconda3/lib/python3.7/site-packages/skimage/util/dtype.py:141: UserWarning: Possible precision loss when converting from float64 to uint8\n",
      "  .format(dtypeobj_in, dtypeobj_out))\n"
     ]
    },
    {
     "name": "stdout",
     "output_type": "stream",
     "text": [
      "sci3.JPG\n",
      "utility/data/raw/scissors/sci3.JPG\n"
     ]
    },
    {
     "name": "stderr",
     "output_type": "stream",
     "text": [
      "/Users/jche/anaconda3/lib/python3.7/site-packages/skimage/transform/_warps.py:105: UserWarning: The default mode, 'constant', will be changed to 'reflect' in skimage 0.15.\n",
      "  warn(\"The default mode, 'constant', will be changed to 'reflect' in \"\n",
      "/Users/jche/anaconda3/lib/python3.7/site-packages/skimage/transform/_warps.py:110: UserWarning: Anti-aliasing will be enabled by default in skimage 0.15 to avoid aliasing artifacts when down-sampling images.\n",
      "  warn(\"Anti-aliasing will be enabled by default in skimage 0.15 to \"\n",
      "/Users/jche/anaconda3/lib/python3.7/site-packages/skimage/util/dtype.py:141: UserWarning: Possible precision loss when converting from float64 to uint8\n",
      "  .format(dtypeobj_in, dtypeobj_out))\n"
     ]
    },
    {
     "name": "stdout",
     "output_type": "stream",
     "text": [
      "sci2.JPG\n",
      "utility/data/raw/scissors/sci2.JPG\n"
     ]
    },
    {
     "name": "stderr",
     "output_type": "stream",
     "text": [
      "/Users/jche/anaconda3/lib/python3.7/site-packages/skimage/transform/_warps.py:105: UserWarning: The default mode, 'constant', will be changed to 'reflect' in skimage 0.15.\n",
      "  warn(\"The default mode, 'constant', will be changed to 'reflect' in \"\n",
      "/Users/jche/anaconda3/lib/python3.7/site-packages/skimage/transform/_warps.py:110: UserWarning: Anti-aliasing will be enabled by default in skimage 0.15 to avoid aliasing artifacts when down-sampling images.\n",
      "  warn(\"Anti-aliasing will be enabled by default in skimage 0.15 to \"\n",
      "/Users/jche/anaconda3/lib/python3.7/site-packages/skimage/util/dtype.py:141: UserWarning: Possible precision loss when converting from float64 to uint8\n",
      "  .format(dtypeobj_in, dtypeobj_out))\n"
     ]
    },
    {
     "name": "stdout",
     "output_type": "stream",
     "text": [
      "sci1.JPG\n",
      "utility/data/raw/scissors/sci1.JPG\n"
     ]
    },
    {
     "name": "stderr",
     "output_type": "stream",
     "text": [
      "/Users/jche/anaconda3/lib/python3.7/site-packages/skimage/transform/_warps.py:105: UserWarning: The default mode, 'constant', will be changed to 'reflect' in skimage 0.15.\n",
      "  warn(\"The default mode, 'constant', will be changed to 'reflect' in \"\n",
      "/Users/jche/anaconda3/lib/python3.7/site-packages/skimage/transform/_warps.py:110: UserWarning: Anti-aliasing will be enabled by default in skimage 0.15 to avoid aliasing artifacts when down-sampling images.\n",
      "  warn(\"Anti-aliasing will be enabled by default in skimage 0.15 to \"\n",
      "/Users/jche/anaconda3/lib/python3.7/site-packages/skimage/util/dtype.py:141: UserWarning: Possible precision loss when converting from float64 to uint8\n",
      "  .format(dtypeobj_in, dtypeobj_out))\n"
     ]
    }
   ],
   "source": [
    "import os\n",
    "import warnings\n",
    "from utility.util import load_image, resize_image, save_image\n",
    "rescaled = f'{base}/rescaled'\n",
    "for sign in dirs:\n",
    "    path = f'{rescaled}/{sign}'\n",
    "    \n",
    "    if not exists(path):\n",
    "        makedirs(path)\n",
    "for path, _, files in os.walk(raw):\n",
    "    sign = os.path.basename(path)\n",
    "    for file in files:\n",
    "        if '.DS_Store' not in file:\n",
    "            print(file)\n",
    "            input_path = f'{path}/{file}'\n",
    "            output_path = f'{rescaled}/{sign}/{file}'\n",
    "            print(input_path)\n",
    "            # note! warnings about lossy conversion are ok\n",
    "            image = load_image(input_path)\n",
    "            image = resize_image(image)\n",
    "            save_image(output_path, image)"
   ]
  },
  {
   "cell_type": "markdown",
   "metadata": {},
   "source": [
    "# 1.3 Create a Train-Validation Split\n",
    "\n",
    "Now, make sure that the images in `utility/data/rescaled` are of reasonable size, meaning each image is less than `1MB`. \n",
    "\n",
    "**Try this!** Split your rescaled images into `training` and `test` sets. To do so, create two corresponding new subfolders under `utility/data`. \n",
    "\n",
    "> Hint: we will need more data in `training` (80%) than in `test` (20%), but each folder should have _distinct_ pictures of each team. Pictures in `test` cannot be the same as in `training` (this is your train-test/train-validation split of the data). "
   ]
  },
  {
   "cell_type": "markdown",
   "metadata": {},
   "source": [
    "The following cell creates the folders for you."
   ]
  },
  {
   "cell_type": "code",
   "execution_count": 22,
   "metadata": {},
   "outputs": [],
   "source": [
    "from sklearn.model_selection import train_test_split\n",
    "\n",
    "data_sets = ['training', 'test']\n",
    "\n",
    "for name in data_sets:\n",
    "    for sign in dirs:\n",
    "        path = f'{base}/{name}/{sign}'\n",
    "        if not exists(path):\n",
    "            os.makedirs(path, exist_ok=True)"
   ]
  },
  {
   "cell_type": "markdown",
   "metadata": {},
   "source": [
    "### 1.4 Deploying the Images\n",
    "\n",
    "**Try this!** Now, upload your _rescaled images_ to the **shared box folder** ([here](https://wustl.box.com/s/a1vqlkp1qp6pfev6gn8uazbua9krjj75)). Again, ensure that each image is in their correct folder corresponding to `validation` or `training` and their respective classes `rock`, `paper`, and `scissors`. Team Model™️ will use these images to train your neural network.\n",
    "\n",
    "**Do this now, as we will be adding more images to the `rescaled` directory!**"
   ]
  },
  {
   "cell_type": "markdown",
   "metadata": {},
   "source": [
    "## 2. Making Data from Data\n",
    "\n",
    "As we know from Lab 9, neural networks have a massive number of parameters that need to be tuned. As we also know, models with high degrees of flexibility, large numbers of parameters, require larger and larger datasets to prevent them from overfitting, an thus improve their performance. In our case, we know that we have a limited amount of data (as many as we could preduce in section 1). How can we find a middle ground between our lack of data and the ideal amount of data to train our models with.\n",
    "\n",
    "One way to do this is _data augmentation_, which - simply put - performs a bunch of different transformations on our original data in `training` to produce more images to train our neural network with."
   ]
  },
  {
   "cell_type": "markdown",
   "metadata": {},
   "source": [
    "### 2.1 Data Augmentation\n",
    "#### Option 1: Using an External Tool\n",
    "\n",
    "We will use a new terminal window for this section of the lab. We will use a tool called [Image Augmentor](https://github.com/codebox/image_augmentor) to do this. Then, in the same terminal window, navigate to the `utility/image_augmentor` directory. Once you're there, read [the documentation](https://github.com/codebox/image_augmentor) and try a few different data augmentions on the pictures you added to `utility/data/training`."
   ]
  },
  {
   "cell_type": "markdown",
   "metadata": {},
   "source": [
    "**Try this!** Use the Image Augmentor tool in reference to [it's documentation](https://codebox.net/pages/image-augmentation-with-python) to build an augmented dataset with each of the transformations provided.\n",
    "\n",
    "For each image in `utility/data/training`, create the following transformed versions:\n",
    "* horizonatally and vertically flipped\n",
    "* add noise (_not too much that the resulting images don't get too large!_)\n",
    "* rotations\n",
    "* translations\n",
    "* several zoomed versions\n",
    "* several blurred versions"
   ]
  },
  {
   "cell_type": "markdown",
   "metadata": {},
   "source": [
    "#### Option 2: Using `skimage`\n",
    "\n",
    "We can use the `skimage` package to transform your images as well. Here is the link to [an article](https://www.kaggle.com/tomahim/image-manipulation-augmentation-with-skimage) that describes some of the transformations that you can do.\n",
    "\n",
    "**Try this!** In the following cells, explore the transformations provided by `skimage`, create at **least 5 different augmented versions** of each of your images, and save your transformed images to `utility/data/rescaled`, appending a description of the transformation applied to the the image."
   ]
  },
  {
   "cell_type": "code",
   "execution_count": 37,
   "metadata": {},
   "outputs": [
    {
     "name": "stdout",
     "output_type": "stream",
     "text": [
      "Photo on 4-22-20 at 2.27 PM.jpg\n",
      "utility/andrew_data/rescaled/scissors/Photo on 4-22-20 at 2.27 PM.jpg\n"
     ]
    },
    {
     "name": "stderr",
     "output_type": "stream",
     "text": [
      "/Users/jche/anaconda3/lib/python3.7/site-packages/skimage/util/dtype.py:141: UserWarning: Possible precision loss when converting from float64 to uint8\n",
      "  .format(dtypeobj_in, dtypeobj_out))\n"
     ]
    },
    {
     "name": "stdout",
     "output_type": "stream",
     "text": [
      "Photo on 4-22-20 at 2.27 PM #5.jpg\n",
      "utility/andrew_data/rescaled/scissors/Photo on 4-22-20 at 2.27 PM #5.jpg\n"
     ]
    },
    {
     "name": "stderr",
     "output_type": "stream",
     "text": [
      "/Users/jche/anaconda3/lib/python3.7/site-packages/skimage/util/dtype.py:141: UserWarning: Possible precision loss when converting from float64 to uint8\n",
      "  .format(dtypeobj_in, dtypeobj_out))\n"
     ]
    },
    {
     "name": "stdout",
     "output_type": "stream",
     "text": [
      "Photo on 4-22-20 at 2.27 PM #4.jpg\n",
      "utility/andrew_data/rescaled/scissors/Photo on 4-22-20 at 2.27 PM #4.jpg\n"
     ]
    },
    {
     "name": "stderr",
     "output_type": "stream",
     "text": [
      "/Users/jche/anaconda3/lib/python3.7/site-packages/skimage/util/dtype.py:141: UserWarning: Possible precision loss when converting from float64 to uint8\n",
      "  .format(dtypeobj_in, dtypeobj_out))\n"
     ]
    },
    {
     "name": "stdout",
     "output_type": "stream",
     "text": [
      "Photo on 4-22-20 at 2.27 PM #3.jpg\n",
      "utility/andrew_data/rescaled/scissors/Photo on 4-22-20 at 2.27 PM #3.jpg\n"
     ]
    },
    {
     "name": "stderr",
     "output_type": "stream",
     "text": [
      "/Users/jche/anaconda3/lib/python3.7/site-packages/skimage/util/dtype.py:141: UserWarning: Possible precision loss when converting from float64 to uint8\n",
      "  .format(dtypeobj_in, dtypeobj_out))\n"
     ]
    },
    {
     "name": "stdout",
     "output_type": "stream",
     "text": [
      "Photo on 4-22-20 at 2.27 PM #2.jpg\n",
      "utility/andrew_data/rescaled/scissors/Photo on 4-22-20 at 2.27 PM #2.jpg\n"
     ]
    },
    {
     "name": "stderr",
     "output_type": "stream",
     "text": [
      "/Users/jche/anaconda3/lib/python3.7/site-packages/skimage/util/dtype.py:141: UserWarning: Possible precision loss when converting from float64 to uint8\n",
      "  .format(dtypeobj_in, dtypeobj_out))\n"
     ]
    }
   ],
   "source": [
    "import matplotlib.pyplot as plt\n",
    "import os\n",
    "from skimage.transform import rescale\n",
    "from skimage.util import random_noise\n",
    "from skimage.color import rgb2gray\n",
    "from skimage import util\n",
    "import numpy as np\n",
    "from skimage.transform import rotate\n",
    "from skimage import exposure\n",
    "from utility.util import load_image, square_image, resize_image, show_image, save_image\n",
    "\n",
    "\n",
    "def show_images(before, after, op):\n",
    "    '''Displays before and after images. Use this to visualize what each transform is doing.'''\n",
    "    fig, axes = plt.subplots(nrows=1, ncols=2)\n",
    "    ax = axes.ravel()\n",
    "    ax[0].imshow(before, cmap='gray')\n",
    "    ax[0].set_title(\"Original image\")\n",
    "\n",
    "    ax[1].imshow(after, cmap='gray')\n",
    "    ax[1].set_title(op + \" image\")\n",
    "    if op == \"Rescaled\":\n",
    "        ax[0].set_xlim(0, 400)\n",
    "        ax[0].set_ylim(300, 0)\n",
    "    else:        \n",
    "        ax[0].axis('off')\n",
    "        ax[1].axis('off')\n",
    "    plt.tight_layout()\n",
    "\n",
    "\n",
    "# # for example\n",
    "# image = load_image('utility/pics/c0.png')\n",
    "# show_image(image)\n",
    "\n",
    "# squared = square_image(image)\n",
    "# resized = resize_image(image)\n",
    "# show_images(image, resized, 'Resized')\n",
    "\n",
    "# noisy = random_noise(resized)\n",
    "# show_images(resized, noisy, 'Noisy')\n",
    "\n",
    "# # save the image (make sure they are saved in the folder of their sign)\n",
    "# transformation_applied = 'Noisy'\n",
    "# save_image(f'{rescaled}/rock_{transformation_applied}.png', noisy)\n",
    "\n",
    "# used to help create augmented images for collaborator. his skimage does not work\n",
    "# new_base = 'utility/andrew_data'\n",
    "# paper = f'{new_base}/rescaled/paper'\n",
    "# rock = f'{new_base}/rescaled/rock'\n",
    "# scissors = f'{new_base}/rescaled/scissors'\n",
    "\n",
    "paper = f'{base}/rescaled/paper'\n",
    "rock = f'{base}/rescaled/rock'\n",
    "scissors = f'{base}/rescaled/scissors'\n",
    "\n",
    "for path, _, files in os.walk(scissors):\n",
    "    sign = os.path.basename(path)\n",
    "    for file in files:\n",
    "        if '.DS_Store' not in file:\n",
    "            print(file)\n",
    "            input_path = f'{path}/{file}'\n",
    "            transformation_applied = 'Noisy'\n",
    "            output_path = f'{path}/{transformation_applied}_{file}'\n",
    "            print(input_path)\n",
    "            # note! warnings about lossy conversion are ok\n",
    "            image = load_image(input_path)\n",
    "            noisy_image = random_noise(image)\n",
    "            save_image(output_path, noisy_image)\n",
    "            \n",
    "            transformation_applied = 'Gray'\n",
    "            output_path = f'{path}/{transformation_applied}_{file}'\n",
    "            \n",
    "            gray_image = rgb2gray(image)\n",
    "            save_image(output_path, gray_image)\n",
    "            \n",
    "            transformation_applied = 'Inverted'\n",
    "            output_path = f'{path}/{transformation_applied}_{file}'\n",
    "            \n",
    "            invert_image = util.invert(image)\n",
    "            save_image(output_path, invert_image)\n",
    "            \n",
    "            transformation_applied = 'Rotate'\n",
    "            output_path = f'{path}/{transformation_applied}_{file}'\n",
    "            \n",
    "            rotate_image = rotate(image, 45)\n",
    "            save_image(output_path, rotate_image)\n",
    "            \n",
    "            transformation_applied = 'Exposed'\n",
    "            output_path = f'{path}/{transformation_applied}_{file}'\n",
    "            \n",
    "            exposed_image = exposure.adjust_gamma(image, gamma=0.4, gain=0.9)\n",
    "            save_image(output_path, exposed_image)"
   ]
  },
  {
   "cell_type": "markdown",
   "metadata": {},
   "source": [
    "### 2.2 Deploy Augmented Data\n",
    "\n",
    "Now, make sure that the images in `utility/data/training` include the original and at least 5 augmented versions each plus that all of them are of _reasonable size_, $\\approx$ `1MB`. If the size is bigger, rescale them again or replace them with other transfomations (e.g. add less noise).\n",
    "\n",
    "**Try this!** Now, upload your _augmented rescaled images_ along with the scaled version of the original to the **shared box folder** ([here](https://wustl.box.com/s/6sshfntf5lz8xxtv3oj2cl5nyr27bg8z)), ensuring that each image is in their correct folder. Team Model™️ will use these images to train your augmented neural network.\n",
    "\n",
    "> Hint: All the augmented data goes into `augmented`. No train-validation split required, since we can use our original (unaugmented) validateion set. "
   ]
  }
 ],
 "metadata": {
  "kernelspec": {
   "display_name": "Python 3",
   "language": "python",
   "name": "python3"
  },
  "language_info": {
   "codemirror_mode": {
    "name": "ipython",
    "version": 3
   },
   "file_extension": ".py",
   "mimetype": "text/x-python",
   "name": "python",
   "nbconvert_exporter": "python",
   "pygments_lexer": "ipython3",
   "version": "3.7.3"
  }
 },
 "nbformat": 4,
 "nbformat_minor": 4
}
