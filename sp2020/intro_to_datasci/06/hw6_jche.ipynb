{
 "cells": [
  {
   "cell_type": "markdown",
   "metadata": {},
   "source": [
    "# Homework 6: Exploring Study Reflection Responses 🗞"
   ]
  },
  {
   "cell_type": "markdown",
   "metadata": {},
   "source": [
    "Name: Jeff Che\n",
    "\n",
    "Student ID: 464957\n",
    "\n",
    "Collaborators: Andrew Wu"
   ]
  },
  {
   "cell_type": "markdown",
   "metadata": {},
   "source": [
    "## Instructions\n",
    "\n",
    "In this homework, we will be reviewing the exploratory data analysis (EDA) process. It might be helpful to review **Lab 2 (Analyzing the MoMA Data)** first. Most of the things we ask you to do in this homework are explained in the lab. In general, you should feel free to import any package that we have previously used in class. Ensure that all plots have the necessary components that a plot should have (e.g. axes labels, a title, a legend).\n",
    "\n",
    "Additionally, note that this homework will have a slightly different structure than in the past. One of the reasons why Jupyter Notebooks are so popular in the field is because you can really treat them like notebooks to explain your findings as you discover them. In this assignment, we provide some **Problem** stubs following the EDA process and you will need to fill in the analysis and structure as you go.\n",
    "\n",
    "Furthermore, in addition to recording your collaborators on this homework, please also remember to cite/indicate all external sources used when finishing this assignment. This includes peers, TAs, and links to online sources. Note that these citations will not free you from your obligation to submit your _own_ code and write-ups, however, they will be taken into account during the grading and regrading process.\n",
    "\n",
    "### Submission instructions\n",
    "* Submit this python notebook including your answers in the code cells as homework submission.\n",
    "* **Feel free to add as many cells as you need to** — just make sure you don't change what we gave you. \n",
    "* **Does it spark joy?** Note that you will be partially graded on the presentation (_cleanliness, clarity, comments_) of your notebook so make sure you [Marie Kondo](https://lifehacker.com/marie-kondo-is-not-a-verb-1833373654) your notebook before submitting it."
   ]
  },
  {
   "cell_type": "markdown",
   "metadata": {},
   "source": [
    "## 1. Introduction\n",
    "\n",
    "For our EDA this week, we'll take a look at _anonymized_ exam study reflection responses. You will find a blank copy of the reflection survey in `utility/data` along with a CSV containing the data and a README.txt file that explains what each value represents. Our goal will be to use this dataset to gain some insight about how students study and _perhaps_ find some patterns in this data."
   ]
  },
  {
   "cell_type": "markdown",
   "metadata": {},
   "source": [
    "In general, we will be following the EDA process:\n",
    "1. Get the data and gain **basic understanding**\n",
    "2. **Wrangle** the data\n",
    "3. **Profile** the data\n",
    "4. Develop questions to investigate (form a **hypotheses**)\n",
    "5. Use the data to **investigate** hypothesis\n",
    "6. **Summarize** results and answer questions "
   ]
  },
  {
   "cell_type": "markdown",
   "metadata": {},
   "source": [
    "## 2. Getting Familiar with the Data\n",
    "\n",
    "In this section, we will get a feel for our data and tidy it up so that we can analyize it later."
   ]
  },
  {
   "cell_type": "markdown",
   "metadata": {},
   "source": [
    "### Problem 1\n",
    "\n",
    "Let's take a look at the files in `utility/data` and think about what we can and will need to do with it.\n",
    "\n",
    "**Write-up!** Describe the data in `MidtermStudyReflection.csv`, answering questions including, but not limited to, these: How many examples and features does the dataset have? What kinds of features are in the dataset? What values can these features take?\n",
    "> `Hint` Consider the steps of EDA; what would you like to know about this dataset. "
   ]
  },
  {
   "cell_type": "raw",
   "metadata": {},
   "source": [
    "# your response here\n",
    "\n",
    "The data set has 89 examples and 20 features. Features are either numerical or categorical. Numerical features can take a value between 1 and 5 (discrete). Exam score and hours are exceptions for this (more continuous). The categorical features can take 6 or 4 choices (plus a free form one)."
   ]
  },
  {
   "cell_type": "markdown",
   "metadata": {},
   "source": [
    "### Problem 2\n",
    "\n",
    "Let's do some data wrangling. Considering your description of the dataset from [Problem 1](#Problem-1), how should we clean this data?\n",
    "\n",
    "In the cells below, explain and perform the steps that you need to prepare this data for further analysis. Make sure that your analysis and work is presented well and effectively communicates your work. \n",
    "> `Hint` While our labs are not perfect, you can use them as an example of how you might do this. \n",
    "Also, you might want to come back to this step later on, since you might encounter problems with the data once you actually analyze it. Remember, you may add as many cells (for code and text) as you need below. Here — we gave you one for free!"
   ]
  },
  {
   "cell_type": "code",
   "execution_count": 66,
   "metadata": {},
   "outputs": [
    {
     "data": {
      "text/plain": [
       "Index(['Midterm Score',\n",
       "       'How much did you rely on the following studying methods to prepare for this exam? 1 indicates \"Not at all\" and 5 indicates \"Very heavily.\" [Reviewing slides]',\n",
       "       'How much did you rely on the following studying methods to prepare for this exam? 1 indicates \"Not at all\" and 5 indicates \"Very heavily.\" [Attending lecture]',\n",
       "       'How much did you rely on the following studying methods to prepare for this exam? 1 indicates \"Not at all\" and 5 indicates \"Very heavily.\" [Taking lecture notes]',\n",
       "       'How much did you rely on the following studying methods to prepare for this exam? 1 indicates \"Not at all\" and 5 indicates \"Very heavily.\" [Reviewing lecture notes]',\n",
       "       'How much did you rely on the following studying methods to prepare for this exam? 1 indicates \"Not at all\" and 5 indicates \"Very heavily.\" [Completing assigned readings]',\n",
       "       'How much did you rely on the following studying methods to prepare for this exam? 1 indicates \"Not at all\" and 5 indicates \"Very heavily.\" [Attending a study group]',\n",
       "       'How much did you rely on the following studying methods to prepare for this exam? 1 indicates \"Not at all\" and 5 indicates \"Very heavily.\" [Talking with a professor / TA]',\n",
       "       'How much did you rely on the following studying methods to prepare for this exam? 1 indicates \"Not at all\" and 5 indicates \"Very heavily.\" [Reviewing homeworks]',\n",
       "       'How much did you rely on the following studying methods to prepare for this exam? 1 indicates \"Not at all\" and 5 indicates \"Very heavily.\" [Reviewing labs]',\n",
       "       'Who did you study with? (1 indicates \"Not at all\" and 5 indicates \"Very heavily.\") [One other student from class]',\n",
       "       'How much did you rely on the following studying methods to prepare for this exam? 1 indicates \"Not at all\" and 5 indicates \"Very heavily.\" [Reviewing past quizzes]',\n",
       "       'How much did you rely on the following studying methods to prepare for this exam? 1 indicates \"Not at all\" and 5 indicates \"Very heavily.\" [Completing worksheet problems]',\n",
       "       'Who did you study with? (1 indicates \"Not at all\" and 5 indicates \"Very heavily.\") [Study group with other students/friends]',\n",
       "       'Who did you study with? (1 indicates \"Not at all\" and 5 indicates \"Very heavily.\") [Alone]',\n",
       "       'How many hours in total did you study for this exam? (Answer using numerals, e.g. \"5\" and not \"five\")',\n",
       "       'Who did you study with? (1 indicates \"Not at all\" and 5 indicates \"Very heavily.\") [Tutor / friend not in this class]',\n",
       "       'What was the hardest concept to grasp?',\n",
       "       'How many days before the exam did you start studying? (Answer using numerals, e.g. \"5\" and not \"five\")',\n",
       "       'Why was it hard? (Please note this question is optional)'],\n",
       "      dtype='object')"
      ]
     },
     "execution_count": 66,
     "metadata": {},
     "output_type": "execute_result"
    }
   ],
   "source": [
    "# this one is free!\n",
    "import pandas as pd\n",
    "import numpy as np\n",
    "\n",
    "data = pd.read_csv(\"./utility/data/MidtermStudyReflection.csv\") #reading data from csv file into data variable\n",
    "data_head = data.head() #first few examples\n",
    "data_shape = data.shape #number of examples and features\n",
    "data_columns = data.columns #what features are\n",
    "\n",
    "placeholder =  data.select_dtypes(include=np.number)\n",
    "numerical = placeholder.columns\n",
    "numeric_only_data = data[numerical] #only numerical features\n",
    "\n",
    "#variables for features to make code cleaner\n",
    "score = 'Midterm Score'\n",
    "hours_studied = 'How many hours in total did you study for this exam? (Answer using numerals, e.g. \"5\" and not \"five\")'\n",
    "days_before = 'How many days before the exam did you start studying? (Answer using numerals, e.g. \"5\" and not \"five\")'\n",
    "review_slides = 'How much did you rely on the following studying methods to prepare for this exam? 1 indicates \"Not at all\" and 5 indicates \"Very heavily.\" [Reviewing slides]'\n",
    "review_labs = 'How much did you rely on the following studying methods to prepare for this exam? 1 indicates \"Not at all\" and 5 indicates \"Very heavily.\" [Reviewing labs]'\n",
    "review_hw = 'How much did you rely on the following studying methods to prepare for this exam? 1 indicates \"Not at all\" and 5 indicates \"Very heavily.\" [Reviewing homeworks]'\n",
    "attending_class = 'How much did you rely on the following studying methods to prepare for this exam? 1 indicates \"Not at all\" and 5 indicates \"Very heavily.\" [Attending lecture]'\n",
    "take_notes = 'How much did you rely on the following studying methods to prepare for this exam? 1 indicates \"Not at all\" and 5 indicates \"Very heavily.\" [Taking lecture notes]'\n",
    "\n",
    "data_columns"
   ]
  },
  {
   "cell_type": "markdown",
   "metadata": {},
   "source": [
    "### Problem 3\n",
    "\n",
    "Now that we cleaned up our data, we are ready to look into it. In this problem, we want to profile our data and explore single variables.\n",
    "> `Hint` Note that the way the data is stored does not necesarily mean that each column should correspond to a seperate variable. Feel free to define your own variables based on the input data. Looking at the study reflection form might be helpful to figure out meaningful representations. Also note that there is no right or wrong representation here (since it is your job to find something interesting in the data, it is also up to you to choose  the data representation). Again, you might want to iterate over this step again later after doing some more exploration. \n",
    "\n",
    "Recall from Lab 2, this step usually involves computing summary statistics and basic plots _where applicable_. Try plotting some of the data (with appropriate plots). Then, highlight a few of the more interesting ones and discuss why you thought they were interesting — for both our sakes, **please only include the most interesting ones** in your actual submission. \n",
    "\n",
    "Once again, we have provided a _free_ cell for you to use; make as many as you need. Use text cells to describe what you are doing and what your findings are. "
   ]
  },
  {
   "cell_type": "code",
   "execution_count": 67,
   "metadata": {},
   "outputs": [
    {
     "data": {
      "text/plain": [
       "Text(0.5, 1.0, 'Score vs. Comparison Variable')"
      ]
     },
     "execution_count": 67,
     "metadata": {},
     "output_type": "execute_result"
    },
    {
     "data": {
      "image/png": "[encoded data removed]",
      "text/plain": [
       "<Figure size 432x288 with 1 Axes>"
      ]
     },
     "metadata": {
      "needs_background": "light"
     },
     "output_type": "display_data"
    }
   ],
   "source": [
    "# this one is also free!\n",
    "import matplotlib.pyplot as plt\n",
    "\n",
    "#here I plot 7 features against score on a scatter plot.\n",
    "#figured these 7 features are of the most interest/relevance to me.\n",
    "df = numeric_only_data\n",
    "first = df[score]\n",
    "second1 = df[hours_studied]\n",
    "second2 = df[days_before]\n",
    "second3 = df[review_slides]\n",
    "second4 = df[review_labs]\n",
    "second5 = df[review_hw]\n",
    "second6 = df[attending_class]\n",
    "second7 = df[take_notes]\n",
    "ax1 = plt.scatter(first, second1, color=\"green\") \n",
    "ax2 = plt.scatter(first, second2, color=\"orange\")\n",
    "ax3 = plt.scatter(first, second3, color=\"red\")\n",
    "ax4 = plt.scatter(first, second4, color=\"blue\")\n",
    "ax5 = plt.scatter(first, second5, color=\"yellow\")\n",
    "ax6 = plt.scatter(first, second6, color=\"pink\")\n",
    "ax7 = plt.scatter(first, second7, color=\"turquoise\")\n",
    "plt.xlabel(\"Midterm Score\")\n",
    "plt.ylabel(\"Selected Comparison Variable\")\n",
    "plt.legend((ax1, ax2, ax3, ax4, ax5, ax6, ax7), ('Score vs. Hours Studied', 'Score vs. Number of Days Before', 'Score vs. Reliance on Slides', 'Score vs. Reliance on Labs', 'Score vs. Reliance on HW', 'Score vs. Attending Lecture', 'Score vs. Taking Notes'))\n",
    "plt.title(\"Score vs. Comparison Variable\")\n",
    "\n",
    "#Most clustered in bottom right, supports that some have slightly negative correlations. Can also see outliers."
   ]
  },
  {
   "cell_type": "code",
   "execution_count": 69,
   "metadata": {},
   "outputs": [
    {
     "name": "stdout",
     "output_type": "stream",
     "text": [
      "Pearson Correlations:\n",
      "Score vs. hours studied:\n",
      "-0.05603989840673857\n",
      "Score vs. days before studied:\n",
      "-0.04857567506086991\n",
      "Score vs. review slides:\n",
      "-0.0829797498295129\n",
      "Score vs. review labs:\n",
      "-0.1364467639321118\n",
      "Score vs. review hw:\n",
      "-0.15571416722005518\n",
      "Score vs. attending lecture:\n",
      "0.19378644169995332\n",
      "Score vs. taking notes:\n",
      "0.20290070801066834\n",
      "\n",
      "    All observed correlations are slightly negative, except for attending class and taking notes.\n",
      "This means that, overall, studying more caused a general reduction in exam scores. This is interesting and suggests that\n",
      "students who knew what they were doing spent a lot less time studying than those who didn't, and there were more students who didn't\n",
      "need to study as much. Furthermore, this can be supported by a positive correlation with attending class, taking notes. Those who attended more class\n",
      "and were engaged needed less of other study methods in order to do well. Shows that attending class and participating is one of the best things we could have done to prepare.\n"
     ]
    }
   ],
   "source": [
    "import math\n",
    "\n",
    "#borrowed correlation function from hw2\n",
    "def correlation(x, y):\n",
    "    '''\n",
    "    Returns the sample Pearson Correlation Coefficient between arrays X and Y.\n",
    "    '''\n",
    "    \n",
    "    # your code here\n",
    "    \n",
    "    #both need to be same size\n",
    "    if len(x) != len(y):\n",
    "        return\n",
    "    \n",
    "    x_mean = sum(x) / len(x)\n",
    "    y_mean = sum(y) / len(y)\n",
    "    \n",
    "    stdX = math.sqrt(sum((xi - x_mean)**2 for xi in x) / len(x))\n",
    "    stdY = math.sqrt(sum((yi - y_mean)**2 for yi in y) / len(y))\n",
    "    \n",
    "    c = 0\n",
    "    for i in range(0, len(x)):\n",
    "        c = c + ((x[i] - x_mean) * (y[i] - y_mean))\n",
    "    \n",
    "    covar = c/(len(x))\n",
    "    \n",
    "    corr = covar/(stdX*stdY)\n",
    "    \n",
    "    assert np.isclose(corr, np.corrcoef(x, y)[0,1]), \\\n",
    "        \"👀 Please double check your implementation's result as it does not match NumPy's.\"\n",
    "    \n",
    "    return corr\n",
    "\n",
    "#correlations between midterm score and 7 chosen features\n",
    "p_corr_scorevhours = correlation(data[score], data[hours_studied])\n",
    "p_corr_scorevdays = correlation(data[score], data[days_before])\n",
    "p_corr_scorevslides = correlation(data[score], data[review_slides])\n",
    "p_corr_scorevslabs = correlation(data[score], data[review_labs])\n",
    "p_corr_scorevshws = correlation(data[score], data[review_hw])\n",
    "p_corr_scorevsclass = correlation(data[score], data[attending_class])\n",
    "p_corr_scorevsnotes = correlation(data[score], data[take_notes])\n",
    "\n",
    "#printing everything out followed by explanation/review.\n",
    "print(\"Pearson Correlations:\")\n",
    "print(\"Score vs. hours studied:\")\n",
    "print(p_corr_scorevhours)\n",
    "print(\"Score vs. days before studied:\")\n",
    "print(p_corr_scorevdays)\n",
    "print(\"Score vs. review slides:\")\n",
    "print(p_corr_scorevslides)\n",
    "print(\"Score vs. review labs:\")\n",
    "print(p_corr_scorevslabs)\n",
    "print(\"Score vs. review hw:\")\n",
    "print(p_corr_scorevshws)\n",
    "print(\"Score vs. attending lecture:\")\n",
    "print(p_corr_scorevsclass)\n",
    "print(\"Score vs. taking notes:\")\n",
    "print(p_corr_scorevsnotes)\n",
    "print()\n",
    "print(\"    All observed correlations are slightly negative, except for attending class and taking notes.\")\n",
    "print(\"This means that, overall, studying more caused a general reduction in exam scores. This is interesting and suggests that\")\n",
    "print(\"students who knew what they were doing spent a lot less time studying than those who didn't, and there were more students who didn't\")\n",
    "print(\"need to study as much. Furthermore, this can be supported by a positive correlation with attending class, taking notes. Those who attended more class\")\n",
    "print(\"and were engaged needed less of other study methods in order to do well. Shows that attending class and participating is one of the best things we could have done to prepare.\")"
   ]
  },
  {
   "cell_type": "markdown",
   "metadata": {},
   "source": [
    "## 3. Asking the Hard Questions\n",
    "\n",
    "By now we should know all of the ins and outs about this dataset (right?). Let's dive a little deeper into it and see if we can find anything interesting."
   ]
  },
  {
   "cell_type": "markdown",
   "metadata": {},
   "source": [
    "### Problem 4\n",
    "\n",
    "As you worked through the initial phase our this homework, did anything catch your interest? Let's formulate some questions and hypotheses that you could explore in depth.\n",
    "\n",
    "**Write-up** Formulate and describe a question and a hypothesis to answer it. What inspired your idea (provide specifics from [the last section](#2.-Getting-Familiar-with-the-Data), if any)? How can you use the data to support or reject your hypothesis?"
   ]
  },
  {
   "cell_type": "raw",
   "metadata": {},
   "source": [
    "# your response here\n",
    "\n",
    "The most interesting thing to me is the negative overall correlation score. Explained in the previous cell.\n",
    "\n",
    "Q1: Why are correlations negative for what one would intuitively expect to be positive? i.e. working more results in more reward.\n",
    "\n",
    "Q2: Why are some scores -1? What does this mean?\n",
    "\n",
    "Hypothesis: the reason why it is a negative correlation for many study methods is because students who knew what they were doing spent a lot less time studying than those who didn't, and there were more students who didn't need to study as much/fall into this category aka they attended class, took notes, and learned enough from there."
   ]
  },
  {
   "cell_type": "markdown",
   "metadata": {},
   "source": [
    "### Problem 5\n",
    "\n",
    "Let's explore your hypothesis. Find evidence from the data that supports or refutes your hypothesis and present it — recall that as a data scientist, one of you're goals is to discover and communicate your results to your audience, _me_. The more thorough your analysis, the better!\n",
    "\n",
    "Here's yet another _free_ cell; use as many as you need."
   ]
  },
  {
   "cell_type": "code",
   "execution_count": 75,
   "metadata": {},
   "outputs": [
    {
     "name": "stdout",
     "output_type": "stream",
     "text": [
      "Pearson Correlations:\n",
      "Score vs. hours studied:\n",
      "-0.05603989840673857\n",
      "Score vs. days before studied:\n",
      "-0.04857567506086991\n",
      "Score vs. review slides:\n",
      "-0.0829797498295129\n",
      "Score vs. review labs:\n",
      "-0.1364467639321118\n",
      "Score vs. review hw:\n",
      "-0.15571416722005518\n",
      "Score vs. attending lecture:\n",
      "0.19378644169995332\n",
      "Score vs. taking notes:\n",
      "0.20290070801066834\n",
      "\n",
      "    Evidence from correlation scores support the hypothesis. Participating more in class and attending class (pos. correlation) is the best for preparing for the exam and\n",
      "results in requiring less studying, which is supported with negative correlations from study methods.\n"
     ]
    }
   ],
   "source": [
    "# woah! these things are falling from the sky or something\n",
    "\n",
    "#reprinting the correlations from before, realized I may have jumped the gun. Followed by support of hypothesis and explanation.\n",
    "print(\"Pearson Correlations:\")\n",
    "print(\"Score vs. hours studied:\")\n",
    "print(p_corr_scorevhours)\n",
    "print(\"Score vs. days before studied:\")\n",
    "print(p_corr_scorevdays)\n",
    "print(\"Score vs. review slides:\")\n",
    "print(p_corr_scorevslides)\n",
    "print(\"Score vs. review labs:\")\n",
    "print(p_corr_scorevslabs)\n",
    "print(\"Score vs. review hw:\")\n",
    "print(p_corr_scorevshws)\n",
    "print(\"Score vs. attending lecture:\")\n",
    "print(p_corr_scorevsclass)\n",
    "print(\"Score vs. taking notes:\")\n",
    "print(p_corr_scorevsnotes)\n",
    "print()\n",
    "print(\"    Evidence from correlation scores support the hypothesis. Participating more in class and attending class (pos. correlation) is the best for preparing for the exam and\")\n",
    "print(\"results in requiring less studying, which is supported with negative correlations from study methods.\")"
   ]
  },
  {
   "cell_type": "markdown",
   "metadata": {},
   "source": [
    "### Problem 6\n",
    "\n",
    "Did you find anything interesting in [Problem 5](#Problem-5)? If you did, tell me about it. Can you make any recommendations for us? What might we try to improve the class? Don't worry if you didn't anything — you should still tell us about what you found (negative results are results too!).\n",
    "\n",
    "It would be lovely if you could provide links to key figures in your discussion. See [this StackOverflow question](https://stackoverflow.com/questions/28080066/how-to-reference-a-ipython-notebook-cell-in-markdown) for details."
   ]
  },
  {
   "cell_type": "raw",
   "metadata": {},
   "source": [
    "# your response here\n",
    "\n",
    "First bit of response is in problem 5's cell. To add, it was very interesting to see this result. Shows to me that attending class and being active actually is the best. It also makes sense that learning more in class would result in having to do less outside of class.\n",
    "\n",
    "Recommendations: more in class engagement, aka make class more engaging so more students want to attend lecture and not skip. This will definitely be harder with Zoom, but it is worth looking into. The worksheets are good, but I feel like more in-depth note taking would be better. To maintain students' attention and have them engaged would be the best."
   ]
  },
  {
   "cell_type": "markdown",
   "metadata": {},
   "source": [
    "### Problem 7\n",
    "\n",
    "One last step that we shouldn't skip is reviewing the data acquisition method. There are often times where the data you need doesn't exist and you need to go collect it. As you probably already know, making surveys is an art and we would like to here how you might change it to collect better or more information in the future. \n",
    "> `Hint` You could discuss something like this: Based on your analysis of the data set, which features were informative and which weren't? What information that was missing from this survey do you think would be helpful to have for next time?"
   ]
  },
  {
   "cell_type": "raw",
   "metadata": {},
   "source": [
    "# your response here\n",
    "\n",
    "The data that was related to study methods and how good students found each method to be were the best. The categorical data (like the hardest part, which category was hard etc) were not as useful (I didn't use them).\n",
    "\n",
    "I think something that would also be good to look at is the time it took for each student to complete the exam. I am interested in what type of trends that results in and it may additionally support that students who were more engaged in class had a better score and also required less time to complete the exam.\n",
    "\n",
    "I think this cell sparked some joy, it was cool to see these results from an exam that I actually took."
   ]
  },
  {
   "cell_type": "markdown",
   "metadata": {},
   "source": [
    "And that's it! Remember to review your work and make sure it is well presented and organized. Not everyting you coded up needs to remain in your submission. **[Does [this cell] spark joy?](https://i.kinja-img.com/gawker-media/image/upload/s--iW_3HGbT--/c_scale,dpr_2.0,f_auto,fl_progressive,q_80,w_800/oruf4oavtj5vpmvaquew.jpg)** You are always trying to communicate your findings to somebody, _maybe even yourself_."
   ]
  }
 ],
 "metadata": {
  "kernelspec": {
   "display_name": "Python 3",
   "language": "python",
   "name": "python3"
  },
  "language_info": {
   "codemirror_mode": {
    "name": "ipython",
    "version": 3
   },
   "file_extension": ".py",
   "mimetype": "text/x-python",
   "name": "python",
   "nbconvert_exporter": "python",
   "pygments_lexer": "ipython3",
   "version": "3.7.3"
  }
 },
 "nbformat": 4,
 "nbformat_minor": 4
}
