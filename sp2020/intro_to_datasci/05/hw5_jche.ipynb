{
 "cells": [
  {
   "cell_type": "markdown",
   "metadata": {},
   "source": [
    "# Homework 5: Detecting Breast Cancer — Classifying Tumors 🩺"
   ]
  },
  {
   "cell_type": "markdown",
   "metadata": {},
   "source": [
    "Name: Jeff Che\n",
    "\n",
    "Student ID: 464957\n",
    "\n",
    "Collaborators: Andrew Wu"
   ]
  },
  {
   "cell_type": "markdown",
   "metadata": {},
   "source": [
    "## Instructions\n",
    "\n",
    "For this homework, work through **Lab 5 (Detecting Breast Cancer — Understanding Logistic Regression)** first. Many of the things we ask you to do in this homework are explained in the lab. In general, you should feel free to import any package that we have previously used in class. Ensure that all plots have the necessary components that a plot should have (e.g. axes labels, a title, a legend).\n",
    "\n",
    "Frequently **save** your notebook!"
   ]
  },
  {
   "cell_type": "markdown",
   "metadata": {},
   "source": [
    "### Collaborators and Sources\n",
    "Furthermore, in addition to recording your **collaborators** on this homework, please also remember to **cite/indicate all external sources** used when finishing this assignment. \n",
    "> This includes peers, TAs, and links to online sources. \n",
    "\n",
    "Note that these citations will be taken into account during the grading and regrading process."
   ]
  },
  {
   "cell_type": "code",
   "execution_count": 1,
   "metadata": {},
   "outputs": [],
   "source": [
    "# collaborators and sources:\n",
    "# Albert Einstein and Marie Curie\n",
    "# https://developers.google.com/edu/python/strings\n",
    "\n",
    "# your code here\n",
    "answer = 'my answer'"
   ]
  },
  {
   "cell_type": "markdown",
   "metadata": {},
   "source": [
    "### Submission instructions\n",
    "* Submit this python notebook including your answers in the code cells as homework submission.\n",
    "* **Do not change the number of cells!** Your submission notebook should have exactly one code cell per problem. \n",
    "* Do **not** remove the `# your code here` line and add you solution after that line. "
   ]
  },
  {
   "cell_type": "markdown",
   "metadata": {},
   "source": [
    "## 1. Predicting Breast Cancer\n",
    "Since all of this looks pretty good now, we can turn to our actual application for _this week_: predicting whether a patient has breast cancer or not. First, let's take a quick look at the data from the University of Wisconsin. Each data point contains information about the breast cancer cells of a single patient derived from a digitized image of a fine needle aspirate (FNA) of a breast mass, similar to those: \n",
    "\n",
    "![fine needle aspirate](utility/pics/fna.jpg)\n",
    "\n",
    "Note that we do not have the image data, but the features capture the cell shapes and we also have the diagnosis (either `malignant` or `benign`), which we will treat as the class label."
   ]
  },
  {
   "cell_type": "markdown",
   "metadata": {},
   "source": [
    "### Understanding the Dataset\n",
    "\n",
    "Let's take a look at what we have."
   ]
  },
  {
   "cell_type": "code",
   "execution_count": 2,
   "metadata": {},
   "outputs": [],
   "source": [
    "from sklearn.datasets import load_breast_cancer\n",
    "\n",
    "cancer_data = load_breast_cancer()"
   ]
  },
  {
   "cell_type": "markdown",
   "metadata": {},
   "source": [
    "### Problem 1.1\n",
    "\n",
    "Let's take a second to explore `data`.\n",
    "\n",
    "**Try this!** In the following cell, evaluate each of the fields in data."
   ]
  },
  {
   "cell_type": "code",
   "execution_count": 3,
   "metadata": {},
   "outputs": [
    {
     "data": {
      "text/plain": [
       "array([0, 0, 0, 0, 0, 0, 0, 0, 0, 0, 0, 0, 0, 0, 0, 0, 0, 0, 0, 1, 1, 1,\n",
       "       0, 0, 0, 0, 0, 0, 0, 0, 0, 0, 0, 0, 0, 0, 0, 1, 0, 0, 0, 0, 0, 0,\n",
       "       0, 0, 1, 0, 1, 1, 1, 1, 1, 0, 0, 1, 0, 0, 1, 1, 1, 1, 0, 1, 0, 0,\n",
       "       1, 1, 1, 1, 0, 1, 0, 0, 1, 0, 1, 0, 0, 1, 1, 1, 0, 0, 1, 0, 0, 0,\n",
       "       1, 1, 1, 0, 1, 1, 0, 0, 1, 1, 1, 0, 0, 1, 1, 1, 1, 0, 1, 1, 0, 1,\n",
       "       1, 1, 1, 1, 1, 1, 1, 0, 0, 0, 1, 0, 0, 1, 1, 1, 0, 0, 1, 0, 1, 0,\n",
       "       0, 1, 0, 0, 1, 1, 0, 1, 1, 0, 1, 1, 1, 1, 0, 1, 1, 1, 1, 1, 1, 1,\n",
       "       1, 1, 0, 1, 1, 1, 1, 0, 0, 1, 0, 1, 1, 0, 0, 1, 1, 0, 0, 1, 1, 1,\n",
       "       1, 0, 1, 1, 0, 0, 0, 1, 0, 1, 0, 1, 1, 1, 0, 1, 1, 0, 0, 1, 0, 0,\n",
       "       0, 0, 1, 0, 0, 0, 1, 0, 1, 0, 1, 1, 0, 1, 0, 0, 0, 0, 1, 1, 0, 0,\n",
       "       1, 1, 1, 0, 1, 1, 1, 1, 1, 0, 0, 1, 1, 0, 1, 1, 0, 0, 1, 0, 1, 1,\n",
       "       1, 1, 0, 1, 1, 1, 1, 1, 0, 1, 0, 0, 0, 0, 0, 0, 0, 0, 0, 0, 0, 0,\n",
       "       0, 0, 1, 1, 1, 1, 1, 1, 0, 1, 0, 1, 1, 0, 1, 1, 0, 1, 0, 0, 1, 1,\n",
       "       1, 1, 1, 1, 1, 1, 1, 1, 1, 1, 1, 0, 1, 1, 0, 1, 0, 1, 1, 1, 1, 1,\n",
       "       1, 1, 1, 1, 1, 1, 1, 1, 1, 0, 1, 1, 1, 0, 1, 0, 1, 1, 1, 1, 0, 0,\n",
       "       0, 1, 1, 1, 1, 0, 1, 0, 1, 0, 1, 1, 1, 0, 1, 1, 1, 1, 1, 1, 1, 0,\n",
       "       0, 0, 1, 1, 1, 1, 1, 1, 1, 1, 1, 1, 1, 0, 0, 1, 0, 0, 0, 1, 0, 0,\n",
       "       1, 1, 1, 1, 1, 0, 1, 1, 1, 1, 1, 0, 1, 1, 1, 0, 1, 1, 0, 0, 1, 1,\n",
       "       1, 1, 1, 1, 0, 1, 1, 1, 1, 1, 1, 1, 0, 1, 1, 1, 1, 1, 0, 1, 1, 0,\n",
       "       1, 1, 1, 1, 1, 1, 1, 1, 1, 1, 1, 1, 0, 1, 0, 0, 1, 0, 1, 1, 1, 1,\n",
       "       1, 0, 1, 1, 0, 1, 0, 1, 1, 0, 1, 0, 1, 1, 1, 1, 1, 1, 1, 1, 0, 0,\n",
       "       1, 1, 1, 1, 1, 1, 0, 1, 1, 1, 1, 1, 1, 1, 1, 1, 1, 0, 1, 1, 1, 1,\n",
       "       1, 1, 1, 0, 1, 0, 1, 1, 0, 1, 1, 1, 1, 1, 0, 0, 1, 0, 1, 0, 1, 1,\n",
       "       1, 1, 1, 0, 1, 1, 0, 1, 0, 1, 0, 0, 1, 1, 1, 0, 1, 1, 1, 1, 1, 1,\n",
       "       1, 1, 1, 1, 1, 0, 1, 0, 0, 1, 1, 1, 1, 1, 1, 1, 1, 1, 1, 1, 1, 1,\n",
       "       1, 1, 1, 1, 1, 1, 1, 1, 1, 1, 1, 1, 0, 0, 0, 0, 0, 0, 1])"
      ]
     },
     "execution_count": 3,
     "metadata": {},
     "output_type": "execute_result"
    }
   ],
   "source": [
    "# your code here\n",
    "import numpy as np\n",
    "cancer_data.data\n",
    "cancer_data.target\n",
    "\n",
    "# print(X.shape)\n",
    "# print(y.shape)"
   ]
  },
  {
   "cell_type": "markdown",
   "metadata": {},
   "source": [
    "**Write-up!** Just for safe-keeping, how many data points are there in this dataset? How many features? What are the names of the features? What are the names of the classes and how are they encoded in the labels?"
   ]
  },
  {
   "cell_type": "raw",
   "metadata": {},
   "source": [
    "# your response here\n",
    "\n",
    "569 data points, 30 features (capture the cell shapes), 2 classes (either malignant or benign, encoded at 1 or 0).\n"
   ]
  },
  {
   "cell_type": "markdown",
   "metadata": {},
   "source": [
    "### Problem 1.2\n",
    "\n",
    "Now that we are familiar with what the data looks like, let's pull out what we need from it.\n",
    "\n",
    "**Try this!** Pull out the input data `X` and label (classification) data `y` from `data`. Make sure that the labels in `y` are either `+1` for `malignant` or `-1` for `benign` tumors."
   ]
  },
  {
   "cell_type": "code",
   "execution_count": 4,
   "metadata": {},
   "outputs": [
    {
     "name": "stdout",
     "output_type": "stream",
     "text": [
      "[ 1  1  1  1  1  1  1  1  1  1  1  1  1  1  1  1  1  1  1 -1 -1 -1  1  1\n",
      "  1  1  1  1  1  1  1  1  1  1  1  1  1 -1  1  1  1  1  1  1  1  1 -1  1\n",
      " -1 -1 -1 -1 -1  1  1 -1  1  1 -1 -1 -1 -1  1 -1  1  1 -1 -1 -1 -1  1 -1\n",
      "  1  1 -1  1 -1  1  1 -1 -1 -1  1  1 -1  1  1  1 -1 -1 -1  1 -1 -1  1  1\n",
      " -1 -1 -1  1  1 -1 -1 -1 -1  1 -1 -1  1 -1 -1 -1 -1 -1 -1 -1 -1  1  1  1\n",
      " -1  1  1 -1 -1 -1  1  1 -1  1 -1  1  1 -1  1  1 -1 -1  1 -1 -1  1 -1 -1\n",
      " -1 -1  1 -1 -1 -1 -1 -1 -1 -1 -1 -1  1 -1 -1 -1 -1  1  1 -1  1 -1 -1  1\n",
      "  1 -1 -1  1  1 -1 -1 -1 -1  1 -1 -1  1  1  1 -1  1 -1  1 -1 -1 -1  1 -1\n",
      " -1  1  1 -1  1  1  1  1 -1  1  1  1 -1  1 -1  1 -1 -1  1 -1  1  1  1  1\n",
      " -1 -1  1  1 -1 -1 -1  1 -1 -1 -1 -1 -1  1  1 -1 -1  1 -1 -1  1  1 -1  1\n",
      " -1 -1 -1 -1  1 -1 -1 -1 -1 -1  1 -1  1  1  1  1  1  1  1  1  1  1  1  1\n",
      "  1  1 -1 -1 -1 -1 -1 -1  1 -1  1 -1 -1  1 -1 -1  1 -1  1  1 -1 -1 -1 -1\n",
      " -1 -1 -1 -1 -1 -1 -1 -1 -1  1 -1 -1  1 -1  1 -1 -1 -1 -1 -1 -1 -1 -1 -1\n",
      " -1 -1 -1 -1 -1  1 -1 -1 -1  1 -1  1 -1 -1 -1 -1  1  1  1 -1 -1 -1 -1  1\n",
      " -1  1 -1  1 -1 -1 -1  1 -1 -1 -1 -1 -1 -1 -1  1  1  1 -1 -1 -1 -1 -1 -1\n",
      " -1 -1 -1 -1 -1  1  1 -1  1  1  1 -1  1  1 -1 -1 -1 -1 -1  1 -1 -1 -1 -1\n",
      " -1  1 -1 -1 -1  1 -1 -1  1  1 -1 -1 -1 -1 -1 -1  1 -1 -1 -1 -1 -1 -1 -1\n",
      "  1 -1 -1 -1 -1 -1  1 -1 -1  1 -1 -1 -1 -1 -1 -1 -1 -1 -1 -1 -1 -1  1 -1\n",
      "  1  1 -1  1 -1 -1 -1 -1 -1  1 -1 -1  1 -1  1 -1 -1  1 -1  1 -1 -1 -1 -1\n",
      " -1 -1 -1 -1  1  1 -1 -1 -1 -1 -1 -1  1 -1 -1 -1 -1 -1 -1 -1 -1 -1 -1  1\n",
      " -1 -1 -1 -1 -1 -1 -1  1 -1  1 -1 -1  1 -1 -1 -1 -1 -1  1  1 -1  1 -1  1\n",
      " -1 -1 -1 -1 -1  1 -1 -1  1 -1  1 -1  1  1 -1 -1 -1  1 -1 -1 -1 -1 -1 -1\n",
      " -1 -1 -1 -1 -1  1 -1  1  1 -1 -1 -1 -1 -1 -1 -1 -1 -1 -1 -1 -1 -1 -1 -1\n",
      " -1 -1 -1 -1 -1 -1 -1 -1 -1 -1  1  1  1  1  1  1 -1]\n"
     ]
    }
   ],
   "source": [
    "# your code here\n",
    "X, y = cancer_data.data, cancer_data.target\n",
    "\n",
    "y[y==1] = -1\n",
    "y[y==0] = 1\n",
    "\n",
    "N, d = X.shape\n",
    "f'There are {N} data points with {d} features each.'\n",
    "\n",
    "print(y)"
   ]
  },
  {
   "cell_type": "markdown",
   "metadata": {},
   "source": [
    "### Problem 1.3\n",
    "\n",
    "Let's plot the distribution of the classes in the dataset."
   ]
  },
  {
   "cell_type": "code",
   "execution_count": 5,
   "metadata": {},
   "outputs": [
    {
     "name": "stdout",
     "output_type": "stream",
     "text": [
      "Plots configured! 📊\n",
      "[357 212]\n",
      "[-1  1]\n"
     ]
    },
    {
     "data": {
      "text/plain": [
       "Text(0.5, 1.0, 'Class Distribution - Breast Cancer Dataset')"
      ]
     },
     "execution_count": 5,
     "metadata": {},
     "output_type": "execute_result"
    }
   ],
   "source": [
    "from utility.util import configure_plots\n",
    "import matplotlib.pyplot as plt\n",
    "\n",
    "configure_plots()\n",
    "\n",
    "classes, counts = np.unique(y, return_counts=True)\n",
    "\n",
    "print(counts)\n",
    "print(classes)\n",
    "\n",
    "plt.bar(['benign ($-1$)', 'malignant ($+1$)'], counts)\n",
    "plt.title('Class Distribution - Breast Cancer Dataset')"
   ]
  },
  {
   "cell_type": "markdown",
   "metadata": {},
   "source": [
    "**Write-up!** What do you notice about the number of observations in each class? Could this potentially lead to problems for our modeling? Think about the data (specifically, the subsets) of data we use to train the data."
   ]
  },
  {
   "cell_type": "raw",
   "metadata": {},
   "source": [
    "# your response here\n",
    "\n",
    "There are much more observations for benign than malignant (more -1 than +1). \n",
    "\n",
    "Since there are more benign data points, for the split for making training and testing data, say a 70:30 split, there is a chance that most, if not all, of the training data could be benign and skew the training of the model. We should aim for a more even split for training!"
   ]
  },
  {
   "cell_type": "markdown",
   "metadata": {},
   "source": [
    "Before we train any model, we split our data into two or more subsets for training, validation, and testing. The [`train_test_split` 🔗](https://scikit-learn.org/stable/modules/generated/sklearn.model_selection.train_test_split.html) function provided by Scikit-Learn has a keyword argument called `stratify`.\n",
    "\n",
    "**Write-up!** What does the `stratify` argument do according to the function's documentation? Why do we use `stratify` when creating our training and testing sets for this dataset? How would our evaluation of the model be affected if we did not use stratify?"
   ]
  },
  {
   "cell_type": "raw",
   "metadata": {},
   "source": [
    "# your response here\n",
    "\n",
    "Stratify takes in an array-like, what we want to stratify. (stratify=y)\n",
    "\n",
    "Stratified sampling aims at splitting a data set so that each split is similar with respect to something. In a classification setting, it is often chosen to ensure that the train and test sets have approximately the same percentage of samples of each target class. Without stratify, results could get skewed with training and testing sets being a non-homogeneous mixture of data.\n"
   ]
  },
  {
   "cell_type": "markdown",
   "metadata": {},
   "source": [
    "### Training the Logistic Regression Model\n",
    "\n",
    "Now, you will train the classifier and then evaluate its performance. \n",
    "\n",
    "In the lab, we implemented Logistic Regression as described and formulated in class. In this series of problems, we will first review the model and practice building one with `sklearn`."
   ]
  },
  {
   "cell_type": "markdown",
   "metadata": {},
   "source": [
    "### Problem 1.4\n",
    "\n",
    "First, we will begin by creating training and test sets with which we will build and evaluate our model with. Then, we will create a new instance of a `LogisticRegression` model and fit it with our training set. As we noticed in [Problem 1.3](#Problem-1.3), our dataset does not have a balanced class distribution. We will need to handle this accordingly.\n",
    "\n",
    "**Try this!** In the following cell, you should do the following:\n",
    "1. Creates a train/test split with `train_test_split` with a `test_size` of 0.3, stratification by `y` with `stratify`, and a `random_state` of 4.\n",
    "2. Creates a new `LogisticRegression` model with the `'liblinear'` `solver` and `fit` it with the training set and stores it in `linear_model`.\n",
    "3. Evaluate the performance by manually computing and printing the classification _accuracy_ of your trained model on the test set.\n",
    "\n",
    "> **Hint**: Feel free to refer to any official documentation and remember that you can easily view the documentation in your notebook for any function or object by adding a `?` after its name (eg. `train_test_split?`)."
   ]
  },
  {
   "cell_type": "code",
   "execution_count": 6,
   "metadata": {},
   "outputs": [
    {
     "name": "stdout",
     "output_type": "stream",
     "text": [
      "0.9064327485380117\n"
     ]
    }
   ],
   "source": [
    "import numpy as np\n",
    "from sklearn.model_selection import train_test_split\n",
    "from sklearn.linear_model import LogisticRegression\n",
    "\n",
    "# your code here\n",
    "\n",
    "X_train, X_test, y_train, y_test = train_test_split(X, y, stratify=y, test_size=0.3, random_state=4)\n",
    "\n",
    "linear_model = LogisticRegression(solver='liblinear')\n",
    "\n",
    "linear_model.fit(X_train, y_train)\n",
    "\n",
    "predicted = linear_model.predict(X_test)\n",
    "\n",
    "correct = 0\n",
    "for prediction in range(len(predicted)):\n",
    "    if predicted[prediction] == y_test[prediction]:\n",
    "        correct += 1\n",
    "        \n",
    "correct_rate = correct/len(predicted)\n",
    "print(correct_rate)\n"
   ]
  },
  {
   "cell_type": "markdown",
   "metadata": {},
   "source": [
    "Looks pretty good!"
   ]
  },
  {
   "cell_type": "markdown",
   "metadata": {},
   "source": [
    "## 2. Diving Deeper into Classification Error\n",
    "\n",
    "While our model's accuracy was pretty good, let's analyze this accuracy more closely. For classification problems we can, instead of just counting mistakes, look at which kind of mistakes we made."
   ]
  },
  {
   "cell_type": "markdown",
   "metadata": {},
   "source": [
    "### Problem 2.1\n",
    "\n",
    "**Write-up!** What are the two different kinds of mistakes we can make for breast cancer prediction? _**Hint**: Think about the decision that our model is making._"
   ]
  },
  {
   "cell_type": "raw",
   "metadata": {},
   "source": [
    "# your response here\n",
    "\n",
    "Type I and Type II error (false negative and false positive respectively). False negative is when result is negative when should have been positive and vice versa for false positive.\n"
   ]
  },
  {
   "cell_type": "markdown",
   "metadata": {},
   "source": [
    "**Write-up!** Recall that in Lab3 we counted false positives and false negatives. What are false positives and false negatives and why do we care to distinguish between them when they are both errors made by our classifier model? In the context of classifying tumors as either malignant or benign, does it make sense to prefer one type of mistake over the other? If so, which one and why? If not, also explain why?"
   ]
  },
  {
   "cell_type": "raw",
   "metadata": {},
   "source": [
    "# your response here\n",
    "\n",
    "False negative is when result is negative when should have been positive and vice versa for false positive.\n",
    "\n",
    "We care to distinguish because for cancer, the results matter. (depending on the context, we definitely can prefer one over the other) We prefer false positives bc we would rather say someone has cancer and then turns out they dont than to say someone doesnt but then does; and suffers bc of that.\n"
   ]
  },
  {
   "cell_type": "markdown",
   "metadata": {},
   "source": [
    "### Confusion Matrices\n",
    "\n",
    "A [confusion matrix](https://en.wikipedia.org/wiki/Confusion_matrix), sometimes called an error matrix, helps us summarize and understand the performance of our classification models by presenting the different types of correct and incorrect predictions our model is making: true positives, true negatives, false positives, and false negatives.\n",
    "\n",
    "<img alt=\"confusion matrix\" src=\"utility/pics/confusion-matrix.png\" />\n",
    "\n",
    "— [Source](https://jkmsmkj.blogspot.com/2018/10/confusion-matrix.html)"
   ]
  },
  {
   "cell_type": "markdown",
   "metadata": {},
   "source": [
    "### Problem 2.2\n",
    "\n",
    "**Try this!** In the following cell, use `confusion_matrix` from `sklearn.metrics` to compute the confusion matrix for the model you built in [Problem 1.4](#Problem-1.4). Then, use `plot_confusion_matrix` to visualize the matrix (you will need to specify the `labels` to use). `HINT` Again, feel free to refer to any official documentation and remember that you can easily view the documentation for a function or object by adding a `?` after its name (eg. `confusion_matrix?`)."
   ]
  },
  {
   "cell_type": "code",
   "execution_count": 7,
   "metadata": {},
   "outputs": [
    {
     "data": {
      "text/plain": [
       "<matplotlib.axes._subplots.AxesSubplot at 0x1a18ca5b00>"
      ]
     },
     "execution_count": 7,
     "metadata": {},
     "output_type": "execute_result"
    },
    {
     "data": {
      "image/png": "[encoded data removed]",
      "text/plain": [
       "<Figure size 432x288 with 1 Axes>"
      ]
     },
     "metadata": {
      "needs_background": "light"
     },
     "output_type": "display_data"
    }
   ],
   "source": [
    "from sklearn.metrics import confusion_matrix\n",
    "from utility.util import plot_confusion_matrix\n",
    "\n",
    "# your code here\n",
    "\n",
    "# labels = ['P', 'N']\n",
    "\n",
    "cm = confusion_matrix(y_test, predicted)\n",
    "\n",
    "# fig = plt.figure() \n",
    "# ax = fig.add_subplot(111) \n",
    "# cax = ax.matshow(cm) \n",
    "# plt.title('Confusion matrix of the classifier') \n",
    "# fig.colorbar(cax) \n",
    "# ax.set_xticklabels([''] + labels) \n",
    "# ax.set_yticklabels([''] + labels) \n",
    "# plt.xlabel('Predicted Class') \n",
    "# plt.ylabel('Actual Class') \n",
    "# plt.show()\n",
    "\n",
    "plot_confusion_matrix(cm, labels=['Positive','Negative'])"
   ]
  },
  {
   "cell_type": "markdown",
   "metadata": {},
   "source": [
    "### Experiment: Making Decisions\n",
    "\n",
    "Now, let's take a look at decision boundaries. As we mentioned in both lecture and lab, label predictions (eg. $\\hat{y} = +1$) are made by considering the class probabilities $P(y = +1 \\mid x)$ produced by our model with a decision threshold. Typically, we use a threshold of 0.5 such that $\\hat{y} = +1$ if $P(y = +1 \\mid x) > 0.5$. However, as we hinted in [Problem 2.1](#Problem-2.1), there are situations and contexts in which the cost of making a _false positive_ error is greater than making a _false negative_ error. We can account for cost differences by adjusting the threshold, and therefore the decision boundary, of our classifier.\n",
    "\n",
    "In the following few cells, we will prepare an experiment to test and observe the effects of changing the decision threshold of our classification model."
   ]
  },
  {
   "cell_type": "markdown",
   "metadata": {},
   "source": [
    "### Problem 2.3\n",
    "\n",
    "The first thing we will need to prepare is a way to compute the predictions of a model given a threshold. This is because `sklearn` does not offer an option to do this.\n",
    "\n",
    "**Try this!** Complete the `make_predictions` function so that it computes the predicted labels `y_pred` $\\in [-1, 1]$ for data `X_test` with a given `model` and decision `threshold`. `HINT` You may find the `model.predict_proba` method and [this StackOverflow thread](https://stackoverflow.com/questions/30820962/splitting-columns-of-a-numpy-array-easily) to be helpful."
   ]
  },
  {
   "cell_type": "code",
   "execution_count": 8,
   "metadata": {},
   "outputs": [],
   "source": [
    "from sklearn.datasets import load_iris\n",
    "from sklearn.linear_model import LogisticRegression\n",
    "\n",
    "def make_predictions(model, X_test, threshold=0.5):\n",
    "    '''\n",
    "    Computes the predicted labels for points in X_TEST using a given MODEL and THRESHOLD\n",
    "    '''\n",
    "    \n",
    "    # your code here\n",
    "    prob = model.predict_proba(X_test)\n",
    "    yn = prob < threshold\n",
    "\n",
    "    N = X_test.shape[0]\n",
    "    \n",
    "    labels = np.ones(N)\n",
    "    \n",
    "    labels[yn.T[1]] = -1\n",
    "    \n",
    "    y_pred = np.array(labels)\n",
    "\n",
    "    \n",
    "    assert isinstance(y_pred, np.ndarray), \\\n",
    "        'Please return your predictions as an NumPy array'\n",
    "    assert np.all(np.isin(np.unique(y_pred), [-1, 1])), \\\n",
    "        'Your predictions should be either -1 or +1'\n",
    "    \n",
    "    return y_pred"
   ]
  },
  {
   "cell_type": "markdown",
   "metadata": {},
   "source": [
    "### Problem 2.4\n",
    "\n",
    "Next, we will combine all of the things we have done in earlier problems into a single function that produces a confusion matrix plot by fitting and evaluating new Logisitic Regression models with varying thresholds. Note that there will be some redundancy/inefficiency in this function because it repeatedly recomputes the same values, but it is okay as it simplifies the code.\n",
    "\n",
    "**Try this!** Complete the `boundary_experiment` function so that it does the following:\n",
    "1. Creates a train/test split with `train_test_split` with a `test_size` of 0.3, stratification by `y` with `stratify`, and a `random_state` of 11.\n",
    "2. Creates a new `LogisticRegression` model with the `'liblinear'` `solver` and `fit` it with the training set.\n",
    "3. Makes predictions `y_pred` for test set points using `make_predictions` and `threshold`.\n",
    "4. Computes a confusion matrix and then plots it using `plot_confusion_matrix`.\n",
    "\n",
    "`HINT` Feel free to refer to any official documentation and remember that you can easily view the documentation for a function or object by adding a `?` after its name (eg. `plot_confusion_matrix?`)."
   ]
  },
  {
   "cell_type": "code",
   "execution_count": 9,
   "metadata": {},
   "outputs": [
    {
     "name": "stdout",
     "output_type": "stream",
     "text": [
      "(171, 30)\n"
     ]
    },
    {
     "data": {
      "text/plain": [
       "array([ 1., -1., -1., -1.,  1., -1., -1.,  1., -1., -1., -1., -1.,  1.,\n",
       "       -1., -1., -1., -1., -1.,  1.,  1., -1., -1., -1.,  1., -1., -1.,\n",
       "       -1.,  1., -1.,  1., -1., -1., -1., -1., -1., -1., -1., -1., -1.,\n",
       "       -1., -1.,  1.,  1.,  1.,  1., -1., -1., -1.,  1., -1., -1., -1.,\n",
       "        1., -1., -1., -1.,  1., -1., -1., -1.,  1.,  1., -1., -1.,  1.,\n",
       "       -1.,  1., -1., -1., -1.,  1.,  1., -1., -1.,  1.,  1.,  1.,  1.,\n",
       "       -1.,  1., -1., -1.,  1., -1., -1., -1., -1.,  1., -1., -1.,  1.,\n",
       "       -1., -1.,  1.,  1.,  1., -1., -1., -1., -1., -1., -1., -1.,  1.,\n",
       "       -1., -1., -1., -1., -1., -1., -1.,  1.,  1.,  1.,  1., -1., -1.,\n",
       "        1., -1.,  1., -1.,  1., -1.,  1., -1.,  1., -1.,  1., -1.,  1.,\n",
       "       -1.,  1., -1., -1.,  1., -1., -1.,  1., -1., -1., -1., -1.,  1.,\n",
       "       -1., -1., -1.,  1., -1., -1.,  1.,  1., -1., -1., -1.,  1., -1.,\n",
       "        1.,  1.,  1.,  1., -1.,  1., -1., -1.,  1., -1.,  1., -1.,  1.,\n",
       "        1.,  1.])"
      ]
     },
     "execution_count": 9,
     "metadata": {},
     "output_type": "execute_result"
    },
    {
     "data": {
      "image/png": "[encoded data removed]",
      "text/plain": [
       "<Figure size 432x288 with 1 Axes>"
      ]
     },
     "metadata": {
      "needs_background": "light"
     },
     "output_type": "display_data"
    }
   ],
   "source": [
    "def boundary_experiment(X, y, threshold=0.5):\n",
    "    \n",
    "    # your code here\n",
    "    \n",
    "    X_train, X_test, y_train, y_test = train_test_split(X, y, stratify=y, test_size=0.3, random_state=11)\n",
    "    print(X_test.shape)\n",
    "    model = LogisticRegression(solver='liblinear')\n",
    "    model.fit(X_train, y_train)\n",
    "    y_pred = make_predictions(model, X_test, threshold)\n",
    "    cm = confusion_matrix(y_test, y_pred)\n",
    "    plot_confusion_matrix(cm, labels=['Positive','Negative'])\n",
    "    \n",
    "    return y_pred\n",
    "boundary_experiment(X, y, 0.5)"
   ]
  },
  {
   "cell_type": "markdown",
   "metadata": {},
   "source": [
    "### Problem 2.5\n",
    "\n",
    "In the following cell, we will experiment with how changing the decision boundary (threshold) affects the confusion matrix using the functions that you implemented earlier. In order to make the visualization work you will need to install an additional package, `ipywidgets`."
   ]
  },
  {
   "cell_type": "markdown",
   "metadata": {},
   "source": [
    "#### Jupyter Lab\n",
    "If you are using Jupyter Lab, you will need to install [node.js](https://nodejs.org/en/) first. You can do this via [brew](https://brew.sh).\n",
    "\n",
    "```\n",
    "$ brew install node\n",
    "```\n",
    "\n",
    "Then, you execute\n",
    "\n",
    "```\n",
    "$ jupyter labextension install @jupyter-widgets/jupyterlab-manager\n",
    "```\n",
    "as described in this [this article](https://ipywidgets.readthedocs.io/en/stable/user_install.html#installing-the-jupyterlab-extension). Then, restart Jupyter Lab\n",
    "\n",
    "#### Jupyter Notebook or Anaconda\n",
    "If you are using Jupyter Notebook or Anaconda, then follow the instructions described in this [this article](https://ipywidgets.readthedocs.io/en/stable/user_install.html)."
   ]
  },
  {
   "cell_type": "markdown",
   "metadata": {},
   "source": [
    "**Try this!** Evaluate the following cell and experiment with the slider."
   ]
  },
  {
   "cell_type": "code",
   "execution_count": 10,
   "metadata": {},
   "outputs": [
    {
     "data": {
      "application/vnd.jupyter.widget-view+json": {
       "model_id": "2af37885aec748feb7bc36a4fb7d8af6",
       "version_major": 2,
       "version_minor": 0
      },
      "text/plain": [
       "interactive(children=(FloatSlider(value=0.5, description='threshold', max=1.0, step=0.05), Output()), _dom_cla…"
      ]
     },
     "metadata": {},
     "output_type": "display_data"
    }
   ],
   "source": [
    "from ipywidgets import interactive, fixed\n",
    "\n",
    "interactive(boundary_experiment, X=fixed(X), y=fixed(y), threshold=(0, 1, 0.05))"
   ]
  },
  {
   "cell_type": "markdown",
   "metadata": {},
   "source": [
    "**Write-up!** How does changing the threshold affect the confusion matrix (eg. correct classifications and errors)? What is the smallest threshold, if any, that eliminates false positive errors? What is the largest threshold, if any, that eliminates false negative errors? In each case, explain whether or not we would want to do so?"
   ]
  },
  {
   "cell_type": "raw",
   "metadata": {},
   "source": [
    "# your response here\n",
    "\n",
    "The lower the threshold, the less true negatives. The higher the threshold, the less true positives.\n",
    "\n",
    "The smallest threshold that eliminates false positive errors is 0.9. The largest threshold that eliminates false negative errors is 0.\n",
    "\n",
    "We would never want to make our threshold 0% because we won't be allowing any true negatives, only true positives. There is literally never any negative predictions; everyone \"has\" cancer. In the cancer case, we would diagnose everyone with cancer. This is not a good outcome.\n",
    "\n",
    "0.9 to eliminate false positives is reasonable bc at this level, if our goal is to be as certain as we can if someone has cancer. Still have some false negatives. We always prefer false negatives over false positives, because in this case, even though false negatives are lower, not eliminated. Still missing cases.\n"
   ]
  },
  {
   "cell_type": "markdown",
   "metadata": {},
   "source": [
    "## 3. An Explainable Classifier: Decision Trees\n",
    "\n",
    "With the rapid development and advancement in artificial intelligence (AI) technologies, including the machine learning that we use in this class, there is an increasing concern over the ethics of AI. There are often situations where AI is used and in which it is critically important to be sure that a model is both reliable and correct. For many models, it is often difficult to explain why they produce the results that they do. These concerns have led to much debate and the advent of the [Explainable AI (XAI)](https://en.wikipedia.org/wiki/Explainable_Artificial_Intelligence) movement. The goal of XAI is to promote the development of AI whose actions and decisions can be easily understood by humans. Though not originally designed with XAI in mind, decision trees have increasingly become the focus of attention within this movement.\n",
    "\n",
    "Perhaps, this is an alternative model we can use to predict breast cancer.\n",
    "\n",
    "In the following section, we will introduce and explore, though not to great depths, what decision trees are and how they can be used as explainable classification models. We will later use this model to explore model complexity."
   ]
  },
  {
   "cell_type": "markdown",
   "metadata": {},
   "source": [
    "### How Do They Work?\n",
    "\n",
    "Intuitively, a decision tree classifier tries to determine the class of a data point by making a series of \"tests\". Consider the following diagram of a decision tree that attempts to predict whether it will rain:\n",
    "\n",
    "![dtree](utility/pics/decision-tree.png)\n",
    "\n",
    "— [Source](https://prateekvjoshi.com/2016/03/22/how-are-decision-trees-constructed-in-machine-learning/)\n",
    "\n",
    "At each level (or depth), a feature of the data is examined and and a decision is made. The outcomes of that decision are represented as branches of the tree. In the tree above, the first feature that is examined is temperature, and if the temperature is greater 70 degrees we will do one thing and if it is less than 70, we will do another thing.\n",
    "\n",
    "What makes decision trees explainable is that we, as humans, can read off and follow exactly how the decision tree came to it's conclusion."
   ]
  },
  {
   "cell_type": "markdown",
   "metadata": {},
   "source": [
    "### Building Decision Trees\n",
    "\n",
    "We will not discuss how decision trees are built in this course. Instead, we will opt to do do that for you. The following cell contains a function that takes a training set and produces a fit decision tree classification model.\n",
    "\n",
    "The main thing to know about decision trees is that their complexity is directly determined by their depth. As we mentioned before, each level of depth in the tree is another set of decisions that the model can make. By increasing the depth of the tree, we increase the complexity of the model."
   ]
  },
  {
   "cell_type": "code",
   "execution_count": 11,
   "metadata": {},
   "outputs": [],
   "source": [
    "from sklearn.tree import DecisionTreeClassifier\n",
    "\n",
    "def make_decision_tree(X_train, y_train, depth=None):\n",
    "    return DecisionTreeClassifier(max_depth=depth, random_state=4).fit(X_train, y_train)"
   ]
  },
  {
   "cell_type": "markdown",
   "metadata": {},
   "source": [
    "\n",
    "Let's try to build a decision tree to classify breast cancer tumors. We will reuse the training and testing sets we made earlier."
   ]
  },
  {
   "cell_type": "code",
   "execution_count": 12,
   "metadata": {},
   "outputs": [],
   "source": [
    "tree_model = make_decision_tree(X_train, y_train)"
   ]
  },
  {
   "cell_type": "code",
   "execution_count": 13,
   "metadata": {},
   "outputs": [
    {
     "data": {
      "text/plain": [
       "DecisionTreeClassifier(ccp_alpha=0.0, class_weight=None, criterion='gini',\n",
       "                       max_depth=None, max_features=None, max_leaf_nodes=None,\n",
       "                       min_impurity_decrease=0.0, min_impurity_split=None,\n",
       "                       min_samples_leaf=1, min_samples_split=2,\n",
       "                       min_weight_fraction_leaf=0.0, presort='deprecated',\n",
       "                       random_state=4, splitter='best')"
      ]
     },
     "execution_count": 13,
     "metadata": {},
     "output_type": "execute_result"
    }
   ],
   "source": [
    "tree_model"
   ]
  },
  {
   "cell_type": "markdown",
   "metadata": {},
   "source": [
    "### Visualizing the Decision Tree\n",
    "\n",
    "Again, the selling point of decision trees is that they are readily interpretable. Let's take a look at what our model looks like."
   ]
  },
  {
   "cell_type": "markdown",
   "metadata": {},
   "source": [
    "### Problem 3.1\n",
    "\n",
    "The following cell produces text and encodes what the tree looks like. We will use a online tool called [Viz.js](http://viz-js.com/) to visualize the results.\n",
    "\n",
    "**Try this!** Run the following cell and copy/paste the outputs in to [Viz.js](http://viz-js.com/). Then clear the outputs of the cell."
   ]
  },
  {
   "cell_type": "code",
   "execution_count": 14,
   "metadata": {},
   "outputs": [
    {
     "name": "stdout",
     "output_type": "stream",
     "text": [
      "digraph Tree {\n",
      "node [shape=box, style=\"filled, rounded\", color=\"black\", fontname=helvetica] ;\n",
      "edge [fontname=helvetica] ;\n",
      "0 [label=\"worst radius <= 16.815\\nsamples = 398\\nvalue = [250, 148]\\nclass = malignant\", fillcolor=\"#f4ccae\"] ;\n",
      "1 [label=\"worst concave points <= 0.16\\nsamples = 266\\nvalue = [245, 21]\\nclass = malignant\", fillcolor=\"#e78c4a\"] ;\n",
      "0 -> 1 [labeldistance=2.5, labelangle=45, headlabel=\"True\"] ;\n",
      "2 [label=\"worst concave points <= 0.136\\nsamples = 251\\nvalue = [243, 8]\\nclass = malignant\", fillcolor=\"#e68540\"] ;\n",
      "1 -> 2 ;\n",
      "3 [label=\"worst symmetry <= 0.161\\nsamples = 233\\nvalue = [230, 3]\\nclass = malignant\", fillcolor=\"#e5833c\"] ;\n",
      "2 -> 3 ;\n",
      "4 [label=\"samples = 1\\nvalue = [0, 1]\\nclass = benign\", fillcolor=\"#399de5\"] ;\n",
      "3 -> 4 ;\n",
      "5 [label=\"area error <= 48.975\\nsamples = 232\\nvalue = [230, 2]\\nclass = malignant\", fillcolor=\"#e5823b\"] ;\n",
      "3 -> 5 ;\n",
      "6 [label=\"mean concavity <= 0.12\\nsamples = 229\\nvalue = [228, 1]\\nclass = malignant\", fillcolor=\"#e5823a\"] ;\n",
      "5 -> 6 ;\n",
      "7 [label=\"samples = 226\\nvalue = [226, 0]\\nclass = malignant\", fillcolor=\"#e58139\"] ;\n",
      "6 -> 7 ;\n",
      "8 [label=\"mean radius <= 11.761\\nsamples = 3\\nvalue = [2, 1]\\nclass = malignant\", fillcolor=\"#f2c09c\"] ;\n",
      "6 -> 8 ;\n",
      "9 [label=\"samples = 2\\nvalue = [2, 0]\\nclass = malignant\", fillcolor=\"#e58139\"] ;\n",
      "8 -> 9 ;\n",
      "10 [label=\"samples = 1\\nvalue = [0, 1]\\nclass = benign\", fillcolor=\"#399de5\"] ;\n",
      "8 -> 10 ;\n",
      "11 [label=\"worst symmetry <= 0.208\\nsamples = 3\\nvalue = [2, 1]\\nclass = malignant\", fillcolor=\"#f2c09c\"] ;\n",
      "5 -> 11 ;\n",
      "12 [label=\"samples = 1\\nvalue = [0, 1]\\nclass = benign\", fillcolor=\"#399de5\"] ;\n",
      "11 -> 12 ;\n",
      "13 [label=\"samples = 2\\nvalue = [2, 0]\\nclass = malignant\", fillcolor=\"#e58139\"] ;\n",
      "11 -> 13 ;\n",
      "14 [label=\"worst texture <= 29.03\\nsamples = 18\\nvalue = [13, 5]\\nclass = malignant\", fillcolor=\"#efb185\"] ;\n",
      "2 -> 14 ;\n",
      "15 [label=\"worst radius <= 16.49\\nsamples = 14\\nvalue = [13, 1]\\nclass = malignant\", fillcolor=\"#e78b48\"] ;\n",
      "14 -> 15 ;\n",
      "16 [label=\"samples = 13\\nvalue = [13, 0]\\nclass = malignant\", fillcolor=\"#e58139\"] ;\n",
      "15 -> 16 ;\n",
      "17 [label=\"samples = 1\\nvalue = [0, 1]\\nclass = benign\", fillcolor=\"#399de5\"] ;\n",
      "15 -> 17 ;\n",
      "18 [label=\"samples = 4\\nvalue = [0, 4]\\nclass = benign\", fillcolor=\"#399de5\"] ;\n",
      "14 -> 18 ;\n",
      "19 [label=\"worst perimeter <= 97.155\\nsamples = 15\\nvalue = [2, 13]\\nclass = benign\", fillcolor=\"#57ace9\"] ;\n",
      "1 -> 19 ;\n",
      "20 [label=\"worst concave points <= 0.214\\nsamples = 3\\nvalue = [2, 1]\\nclass = malignant\", fillcolor=\"#f2c09c\"] ;\n",
      "19 -> 20 ;\n",
      "21 [label=\"samples = 2\\nvalue = [2, 0]\\nclass = malignant\", fillcolor=\"#e58139\"] ;\n",
      "20 -> 21 ;\n",
      "22 [label=\"samples = 1\\nvalue = [0, 1]\\nclass = benign\", fillcolor=\"#399de5\"] ;\n",
      "20 -> 22 ;\n",
      "23 [label=\"samples = 12\\nvalue = [0, 12]\\nclass = benign\", fillcolor=\"#399de5\"] ;\n",
      "19 -> 23 ;\n",
      "24 [label=\"mean texture <= 14.99\\nsamples = 132\\nvalue = [5, 127]\\nclass = benign\", fillcolor=\"#41a1e6\"] ;\n",
      "0 -> 24 [labeldistance=2.5, labelangle=-45, headlabel=\"False\"] ;\n",
      "25 [label=\"mean perimeter <= 102.25\\nsamples = 7\\nvalue = [4, 3]\\nclass = malignant\", fillcolor=\"#f8e0ce\"] ;\n",
      "24 -> 25 ;\n",
      "26 [label=\"samples = 4\\nvalue = [4, 0]\\nclass = malignant\", fillcolor=\"#e58139\"] ;\n",
      "25 -> 26 ;\n",
      "27 [label=\"samples = 3\\nvalue = [0, 3]\\nclass = benign\", fillcolor=\"#399de5\"] ;\n",
      "25 -> 27 ;\n",
      "28 [label=\"worst concave points <= 0.095\\nsamples = 125\\nvalue = [1, 124]\\nclass = benign\", fillcolor=\"#3b9ee5\"] ;\n",
      "24 -> 28 ;\n",
      "29 [label=\"mean compactness <= 0.074\\nsamples = 4\\nvalue = [1, 3]\\nclass = benign\", fillcolor=\"#7bbeee\"] ;\n",
      "28 -> 29 ;\n",
      "30 [label=\"samples = 3\\nvalue = [0, 3]\\nclass = benign\", fillcolor=\"#399de5\"] ;\n",
      "29 -> 30 ;\n",
      "31 [label=\"samples = 1\\nvalue = [1, 0]\\nclass = malignant\", fillcolor=\"#e58139\"] ;\n",
      "29 -> 31 ;\n",
      "32 [label=\"samples = 121\\nvalue = [0, 121]\\nclass = benign\", fillcolor=\"#399de5\"] ;\n",
      "28 -> 32 ;\n",
      "}\n"
     ]
    }
   ],
   "source": [
    "from sklearn.tree import export_graphviz\n",
    "\n",
    "encoding = export_graphviz(tree_model, impurity=False, filled=True, rounded=True,\n",
    "                           feature_names=cancer_data.feature_names,\n",
    "                           class_names=cancer_data.target_names)\n",
    "print(encoding)"
   ]
  },
  {
   "cell_type": "markdown",
   "metadata": {},
   "source": [
    "**Write-up!** What was the maximum depth of the decision tree?"
   ]
  },
  {
   "cell_type": "raw",
   "metadata": {},
   "source": [
    "# your response here\n",
    "\n",
    "assuming root is depth of 0, max depth is 7."
   ]
  },
  {
   "cell_type": "markdown",
   "metadata": {},
   "source": [
    "### Problem 3.2\n",
    "\n",
    "Let's evaluate the performance of the \"max-depth\" decision tree we just visualized.\n",
    "\n",
    "**Try this!** In the cell below, compute the accuracy of the `tree_model` on our testing data."
   ]
  },
  {
   "cell_type": "code",
   "execution_count": 15,
   "metadata": {},
   "outputs": [
    {
     "name": "stdout",
     "output_type": "stream",
     "text": [
      "0.9064327485380117\n"
     ]
    }
   ],
   "source": [
    "# your code here\n",
    "\n",
    "tree_model.fit(X_train, y_train)\n",
    "\n",
    "predict = tree_model.predict(X_test)\n",
    "\n",
    "correct_count = 0\n",
    "for prediction in range(len(predict)):\n",
    "    if predict[prediction] == y_test[prediction]:\n",
    "        correct_count += 1\n",
    "        \n",
    "correct_r = correct_count/len(predict)\n",
    "print(correct_r)"
   ]
  },
  {
   "cell_type": "markdown",
   "metadata": {},
   "source": [
    "**Write-up!** How does this compare to the performance of our linear model?"
   ]
  },
  {
   "cell_type": "raw",
   "metadata": {},
   "source": [
    "# your response here\n",
    "\n",
    "Looks like they are the same performance.\n"
   ]
  },
  {
   "cell_type": "markdown",
   "metadata": {},
   "source": [
    "## 4. Model Selection\n",
    "In the lecture we saw that higher-order polynomials can give us more complex models. Typically increasing model complexity can help improving the performance. However, only to a certain extent. At some point you start to overfit and the performance on a held-out test set will start to decrease again. For decision trees model complexity increases with the depth of the trees used. It is pretty easy to see that by using a sufficient number of splits, you can classify the entire training set correctly. That is classic _overfitting_. "
   ]
  },
  {
   "cell_type": "markdown",
   "metadata": {},
   "source": [
    "### Problem 4.1\n",
    "\n",
    "**Try this!** In the cell below, compute the training and validation error of decision tree classifiers with depths from `1` to `10`."
   ]
  },
  {
   "cell_type": "code",
   "execution_count": 16,
   "metadata": {},
   "outputs": [
    {
     "name": "stdout",
     "output_type": "stream",
     "text": [
      "[0.08771929824561409, 0.08187134502923976, 0.08187134502923976, 0.09941520467836262, 0.08187134502923976, 0.10526315789473684, 0.11695906432748537, 0.11695906432748537, 0.11695906432748537, 0.11695906432748537]\n",
      "[0.10465116279069764, 0.09302325581395354, 0.10465116279069764, 0.10465116279069764, 0.10465116279069764, 0.10465116279069764, 0.10465116279069764, 0.10465116279069764, 0.10465116279069764, 0.10465116279069764]\n"
     ]
    }
   ],
   "source": [
    "from sklearn.tree import DecisionTreeClassifier\n",
    "\n",
    "X_train, X_rest, y_train, y_rest = \\\n",
    "    train_test_split(X, y, test_size=0.3, stratify=y, random_state=10)\n",
    "X_val, X_test, y_val, y_test = \\\n",
    "    train_test_split(X_rest, y_rest, test_size=0.5, stratify=y_rest, random_state=10)\n",
    "\n",
    "\n",
    "# your code here\n",
    "\n",
    "tree_model1 = make_decision_tree(X_train, y_train, 1)\n",
    "tree_model2 = make_decision_tree(X_train, y_train, 2)\n",
    "tree_model3 = make_decision_tree(X_train, y_train, 3)\n",
    "tree_model4 = make_decision_tree(X_train, y_train, 4)\n",
    "tree_model5 = make_decision_tree(X_train, y_train, 5)\n",
    "tree_model6 = make_decision_tree(X_train, y_train, 6)\n",
    "tree_model7 = make_decision_tree(X_train, y_train, 7)\n",
    "tree_model8 = make_decision_tree(X_train, y_train, 8)\n",
    "tree_model9 = make_decision_tree(X_train, y_train, 9)\n",
    "tree_model10 = make_decision_tree(X_train, y_train, 10)\n",
    "\n",
    "tree_model11 = make_decision_tree(X_train, y_train, 1)\n",
    "tree_model12 = make_decision_tree(X_train, y_train, 2)\n",
    "tree_model13 = make_decision_tree(X_train, y_train, 3)\n",
    "tree_model14 = make_decision_tree(X_train, y_train, 4)\n",
    "tree_model15 = make_decision_tree(X_train, y_train, 5)\n",
    "tree_model16 = make_decision_tree(X_train, y_train, 6)\n",
    "tree_model17 = make_decision_tree(X_train, y_train, 7)\n",
    "tree_model18 = make_decision_tree(X_train, y_train, 8)\n",
    "tree_model19 = make_decision_tree(X_train, y_train, 9)\n",
    "tree_model20 = make_decision_tree(X_train, y_train, 10)\n",
    "    \n",
    "train_predicts = []\n",
    "\n",
    "tree_model1.fit(X_train, y_train)\n",
    "train_predicts.append(tree_model1.predict(X_rest))\n",
    "tree_model2.fit(X_train, y_train)\n",
    "train_predicts.append(tree_model2.predict(X_rest))\n",
    "tree_model3.fit(X_train, y_train)\n",
    "train_predicts.append(tree_model3.predict(X_rest))\n",
    "tree_model4.fit(X_train, y_train)\n",
    "train_predicts.append(tree_model4.predict(X_rest))\n",
    "tree_model5.fit(X_train, y_train)\n",
    "train_predicts.append(tree_model5.predict(X_rest))\n",
    "tree_model6.fit(X_train, y_train)\n",
    "train_predicts.append(tree_model6.predict(X_rest))\n",
    "tree_model7.fit(X_train, y_train)\n",
    "train_predicts.append(tree_model7.predict(X_rest))\n",
    "tree_model8.fit(X_train, y_train)\n",
    "train_predicts.append(tree_model8.predict(X_rest))\n",
    "tree_model9.fit(X_train, y_train)\n",
    "train_predicts.append(tree_model9.predict(X_rest))\n",
    "tree_model10.fit(X_train, y_train)\n",
    "train_predicts.append(tree_model10.predict(X_rest))\n",
    "\n",
    "val_predicts = []\n",
    "\n",
    "tree_model11.fit(X_val, y_val)\n",
    "val_predicts.append(tree_model11.predict(X_test))\n",
    "tree_model12.fit(X_val, y_val)\n",
    "val_predicts.append(tree_model12.predict(X_test))\n",
    "tree_model13.fit(X_val, y_val)\n",
    "val_predicts.append(tree_model13.predict(X_test))\n",
    "tree_model14.fit(X_val, y_val)\n",
    "val_predicts.append(tree_model14.predict(X_test))\n",
    "tree_model15.fit(X_val, y_val)\n",
    "val_predicts.append(tree_model15.predict(X_test))\n",
    "tree_model16.fit(X_val, y_val)\n",
    "val_predicts.append(tree_model16.predict(X_test))\n",
    "tree_model17.fit(X_val, y_val)\n",
    "val_predicts.append(tree_model17.predict(X_test))\n",
    "tree_model18.fit(X_val, y_val)\n",
    "val_predicts.append(tree_model18.predict(X_test))\n",
    "tree_model19.fit(X_val, y_val)\n",
    "val_predicts.append(tree_model19.predict(X_test))\n",
    "tree_model20.fit(X_val, y_val)\n",
    "val_predicts.append(tree_model20.predict(X_test))\n",
    "\n",
    "\n",
    "training_errors = []\n",
    "\n",
    "\n",
    "for predictions in train_predicts:\n",
    "    correct_counts = 0\n",
    "    for i in range(len(predictions)):\n",
    "        if (predictions[i] == y_rest[i]):\n",
    "            correct_counts += 1\n",
    "    training_errors.append(correct_counts/len(predictions))\n",
    "    \n",
    "for i in range(len(training_errors)):\n",
    "    training_errors[i] = 1-training_errors[i]\n",
    "                \n",
    "print(training_errors)\n",
    "\n",
    "val_errors = []\n",
    "\n",
    "for predictions in val_predicts:\n",
    "    correct_counts = 0\n",
    "    for i in range(len(predictions)):\n",
    "        if (predictions[i] == y_test[i]):\n",
    "            correct_counts += 1\n",
    "    val_errors.append(correct_counts/len(predictions))\n",
    "    \n",
    "for i in range(len(val_errors)):\n",
    "    val_errors[i] = 1-val_errors[i]\n",
    "    \n",
    "print(val_errors)\n",
    "\n",
    "depths = [1,2,3,4,5,6,7,8,9,10]"
   ]
  },
  {
   "cell_type": "markdown",
   "metadata": {},
   "source": [
    "**Try this!** Plot the training and validation error curves against the depth that produced them."
   ]
  },
  {
   "cell_type": "code",
   "execution_count": 17,
   "metadata": {},
   "outputs": [
    {
     "data": {
      "text/plain": [
       "<matplotlib.legend.Legend at 0x1a1983d198>"
      ]
     },
     "execution_count": 17,
     "metadata": {},
     "output_type": "execute_result"
    },
    {
     "data": {
      "image/png": "[encoded data removed]",
      "text/plain": [
       "<Figure size 432x288 with 1 Axes>"
      ]
     },
     "metadata": {
      "needs_background": "light"
     },
     "output_type": "display_data"
    }
   ],
   "source": [
    "import numpy as np\n",
    "import matplotlib.pyplot as plt\n",
    "\n",
    "# your code here\n",
    "\n",
    "ax1, = plt.plot(depths, training_errors, color=\"orange\")\n",
    "ax2, = plt.plot(depths, val_errors, color=\"red\")\n",
    "\n",
    "plt.xlabel(\"Depths\")\n",
    "plt.ylabel(\"Error Rate\")\n",
    "plt.legend((ax1, ax2), ('Training Error Rate', 'Validation Error Rate'))"
   ]
  },
  {
   "cell_type": "markdown",
   "metadata": {},
   "source": [
    "**Write-up!** Which model (which depths) would you choose and why? "
   ]
  },
  {
   "cell_type": "raw",
   "metadata": {},
   "source": [
    "# your response here\n",
    "\n",
    "model 2 (depth 2), it appears to be a good in between (balance) between training error and validation error. It's just before validation error jumps up a lot and training error is already quite low, but is before training error jumps up as well. All things considered, seems like a good balance."
   ]
  },
  {
   "cell_type": "markdown",
   "metadata": {},
   "source": [
    "### Problem 4.2\n",
    "Evaluate the model you selected above by computing the test error. Print the test error. \n",
    "> Hint: You will have to retrain your model. "
   ]
  },
  {
   "cell_type": "code",
   "execution_count": 18,
   "metadata": {},
   "outputs": [
    {
     "name": "stdout",
     "output_type": "stream",
     "text": [
      "0.10465116279069764\n"
     ]
    }
   ],
   "source": [
    "# your code here\n",
    "\n",
    "tree_model21 = make_decision_tree(X_train, y_train, 2)\n",
    "prediction_test = tree_model21.predict(X_test)\n",
    "\n",
    "cc = 0\n",
    "for i in range(len(prediction_test)):\n",
    "        if (prediction_test[i] == y_test[i]):\n",
    "            cc += 1\n",
    "            \n",
    "test_error = 1 - (cc/len(prediction_test))\n",
    "print(test_error)"
   ]
  },
  {
   "cell_type": "markdown",
   "metadata": {},
   "source": [
    "And that's it!"
   ]
  }
 ],
 "metadata": {
  "kernelspec": {
   "display_name": "Python 3",
   "language": "python",
   "name": "python3"
  },
  "language_info": {
   "codemirror_mode": {
    "name": "ipython",
    "version": 3
   },
   "file_extension": ".py",
   "mimetype": "text/x-python",
   "name": "python",
   "nbconvert_exporter": "python",
   "pygments_lexer": "ipython3",
   "version": "3.7.3"
  }
 },
 "nbformat": 4,
 "nbformat_minor": 4
}
